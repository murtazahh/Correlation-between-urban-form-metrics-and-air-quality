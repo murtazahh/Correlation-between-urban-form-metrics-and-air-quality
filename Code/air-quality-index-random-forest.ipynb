{
 "cells": [
  {
   "cell_type": "code",
   "execution_count": 1,
   "metadata": {
    "_cell_guid": "b1076dfc-b9ad-4769-8c92-a6c4dae69d19",
    "_uuid": "8f2839f25d086af736a60e9eeb907d3b93b6e0e5",
    "collapsed": false,
    "execution": {
     "iopub.execute_input": "2021-08-17T19:47:27.250080Z",
     "iopub.status.busy": "2021-08-17T19:47:27.248508Z",
     "iopub.status.idle": "2021-08-17T19:47:27.273526Z",
     "shell.execute_reply": "2021-08-17T19:47:27.274057Z",
     "shell.execute_reply.started": "2021-08-17T18:43:09.207398Z"
    },
    "papermill": {
     "duration": 0.060071,
     "end_time": "2021-08-17T19:47:27.274507",
     "exception": false,
     "start_time": "2021-08-17T19:47:27.214436",
     "status": "completed"
    },
    "tags": [
    ]
   },
   "outputs": [
   ],
   "source": [
    "\n",
    "\n",
    "import numpy as np # linear algebra\n",
    "import pandas as pd \n",
    "\n",
    "\n",
    "import os\n",
    "for dirname, _, filenames in os.walk('/kaggle/input'):\n",
    "    for filename in filenames:\n",
    "        print(os.path.join(dirname, filename))\n",
    "\n"
   ]
  },
  {
   "cell_type": "code",
   "execution_count": 2,
   "metadata": {
    "collapsed": false,
    "execution": {
     "iopub.execute_input": "2021-08-17T19:47:27.342015Z",
     "iopub.status.busy": "2021-08-17T19:47:27.341323Z",
     "iopub.status.idle": "2021-08-17T19:47:28.183033Z",
     "shell.execute_reply": "2021-08-17T19:47:28.182540Z",
     "shell.execute_reply.started": "2021-08-17T18:44:29.666369Z"
    },
    "papermill": {
     "duration": 0.875707,
     "end_time": "2021-08-17T19:47:28.183152",
     "exception": false,
     "start_time": "2021-08-17T19:47:27.307445",
     "status": "completed"
    },
    "tags": [
    ]
   },
   "outputs": [
   ],
   "source": [
    "import pandas as pd\n",
    "import numpy as np\n",
    "import seaborn as sns"
   ]
  },
  {
   "cell_type": "code",
   "execution_count": 3,
   "metadata": {
    "collapsed": false,
    "execution": {
     "iopub.execute_input": "2021-08-17T19:47:28.248707Z",
     "iopub.status.busy": "2021-08-17T19:47:28.248111Z",
     "iopub.status.idle": "2021-08-17T19:47:28.377202Z",
     "shell.execute_reply": "2021-08-17T19:47:28.376433Z",
     "shell.execute_reply.started": "2021-08-17T18:52:31.993903Z"
    },
    "papermill": {
     "duration": 0.163895,
     "end_time": "2021-08-17T19:47:28.377343",
     "exception": false,
     "start_time": "2021-08-17T19:47:28.213448",
     "status": "completed"
    },
    "tags": [
    ]
   },
   "outputs": [
    {
     "data": {
      "text/html": [
       "<div>\n",
       "<style scoped>\n",
       "    .dataframe tbody tr th:only-of-type {\n",
       "        vertical-align: middle;\n",
       "    }\n",
       "\n",
       "    .dataframe tbody tr th {\n",
       "        vertical-align: top;\n",
       "    }\n",
       "\n",
       "    .dataframe thead th {\n",
       "        text-align: right;\n",
       "    }\n",
       "</style>\n",
       "<table border=\"1\" class=\"dataframe\">\n",
       "  <thead>\n",
       "    <tr style=\"text-align: right;\">\n",
       "      <th></th>\n",
       "      <th>time</th>\n",
       "      <th>PM2.5</th>\n",
       "    </tr>\n",
       "  </thead>\n",
       "  <tbody>\n",
       "    <tr>\n",
       "      <th>0</th>\n",
       "      <td>6/1/2021 0:00</td>\n",
       "      <td>28.5</td>\n",
       "    </tr>\n",
       "    <tr>\n",
       "      <th>1</th>\n",
       "      <td>6/1/2021 1:00</td>\n",
       "      <td>13.9</td>\n",
       "    </tr>\n",
       "    <tr>\n",
       "      <th>2</th>\n",
       "      <td>6/1/2021 2:00</td>\n",
       "      <td>10.3</td>\n",
       "    </tr>\n",
       "    <tr>\n",
       "      <th>3</th>\n",
       "      <td>6/1/2021 3:00</td>\n",
       "      <td>9.5</td>\n",
       "    </tr>\n",
       "    <tr>\n",
       "      <th>4</th>\n",
       "      <td>6/1/2021 4:00</td>\n",
       "      <td>7.8</td>\n",
       "    </tr>\n",
       "  </tbody>\n",
       "</table>\n",
       "</div>"
      ],
      "text/plain": [
       "            time  PM2.5\n",
       "0  6/1/2021 0:00   28.5\n",
       "1  6/1/2021 1:00   13.9\n",
       "2  6/1/2021 2:00   10.3\n",
       "3  6/1/2021 3:00    9.5\n",
       "4  6/1/2021 4:00    7.8"
      ]
     },
     "execution_count": 3,
     "metadata": {
     },
     "output_type": "execute_result"
    }
   ],
   "source": [
    "df=pd.read_csv('Air quality data 2021.csv')\n",
    "df.head()"
   ]
  },
  {
   "cell_type": "markdown",
   "metadata": {
    "collapsed": false,
    "execution": {
     "iopub.execute_input": "2021-08-17T18:52:59.139591Z",
     "iopub.status.busy": "2021-08-17T18:52:59.139223Z",
     "iopub.status.idle": "2021-08-17T18:52:59.144915Z",
     "shell.execute_reply": "2021-08-17T18:52:59.144157Z",
     "shell.execute_reply.started": "2021-08-17T18:52:59.139559Z"
    },
    "papermill": {
     "duration": 0.031051,
     "end_time": "2021-08-17T19:47:28.439587",
     "exception": false,
     "start_time": "2021-08-17T19:47:28.408536",
     "status": "completed"
    },
    "tags": [
    ]
   },
   "source": [
    "As we are only taking 2021 data for predicting AQI \n"
   ]
  },
  {
   "cell_type": "code",
   "execution_count": 6,
   "metadata": {
    "collapsed": false,
    "execution": {
     "iopub.execute_input": "2021-08-17T19:47:28.515099Z",
     "iopub.status.busy": "2021-08-17T19:47:28.514297Z",
     "iopub.status.idle": "2021-08-17T19:47:28.538950Z",
     "shell.execute_reply": "2021-08-17T19:47:28.539429Z",
     "shell.execute_reply.started": "2021-08-17T18:54:55.691728Z"
    },
    "papermill": {
     "duration": 0.068486,
     "end_time": "2021-08-17T19:47:28.539582",
     "exception": false,
     "start_time": "2021-08-17T19:47:28.471096",
     "status": "completed"
    },
    "tags": [
    ]
   },
   "outputs": [
    {
     "name": "stdout",
     "output_type": "stream",
     "text": [
      "(2200, 2)\n"
     ]
    },
    {
     "data": {
      "text/html": [
       "<div>\n",
       "<style scoped>\n",
       "    .dataframe tbody tr th:only-of-type {\n",
       "        vertical-align: middle;\n",
       "    }\n",
       "\n",
       "    .dataframe tbody tr th {\n",
       "        vertical-align: top;\n",
       "    }\n",
       "\n",
       "    .dataframe thead th {\n",
       "        text-align: right;\n",
       "    }\n",
       "</style>\n",
       "<table border=\"1\" class=\"dataframe\">\n",
       "  <thead>\n",
       "    <tr style=\"text-align: right;\">\n",
       "      <th></th>\n",
       "      <th>time</th>\n",
       "      <th>PM2.5</th>\n",
       "    </tr>\n",
       "  </thead>\n",
       "  <tbody>\n",
       "    <tr>\n",
       "      <th>0</th>\n",
       "      <td>6/1/2021 0:00</td>\n",
       "      <td>28.5</td>\n",
       "    </tr>\n",
       "    <tr>\n",
       "      <th>1</th>\n",
       "      <td>6/1/2021 1:00</td>\n",
       "      <td>13.9</td>\n",
       "    </tr>\n",
       "    <tr>\n",
       "      <th>2</th>\n",
       "      <td>6/1/2021 2:00</td>\n",
       "      <td>10.3</td>\n",
       "    </tr>\n",
       "    <tr>\n",
       "      <th>3</th>\n",
       "      <td>6/1/2021 3:00</td>\n",
       "      <td>9.5</td>\n",
       "    </tr>\n",
       "    <tr>\n",
       "      <th>4</th>\n",
       "      <td>6/1/2021 4:00</td>\n",
       "      <td>7.8</td>\n",
       "    </tr>\n",
       "  </tbody>\n",
       "</table>\n",
       "</div>"
      ],
      "text/plain": [
       "            time  PM2.5\n",
       "0  6/1/2021 0:00   28.5\n",
       "1  6/1/2021 1:00   13.9\n",
       "2  6/1/2021 2:00   10.3\n",
       "3  6/1/2021 3:00    9.5\n",
       "4  6/1/2021 4:00    7.8"
      ]
     },
     "execution_count": 6,
     "metadata": {
     },
     "output_type": "execute_result"
    }
   ],
   "source": [
    "\n",
    "df=df[df['time'] >= ('2021-01-06')]\n",
    "print(df.shape)\n",
    "df.head()"
   ]
  },
  {
   "cell_type": "markdown",
   "metadata": {
    "collapsed": false,
    "papermill": {
     "duration": 0.031897,
     "end_time": "2021-08-17T19:47:28.604111",
     "exception": false,
     "start_time": "2021-08-17T19:47:28.572214",
     "status": "completed"
    },
    "tags": [
    ]
   },
   "source": [
    "AS INDEX IS MIXED WE NEED TO FIX THE INDEX "
   ]
  },
  {
   "cell_type": "code",
   "execution_count": 7,
   "metadata": {
    "collapsed": false,
    "execution": {
     "iopub.execute_input": "2021-08-17T19:47:28.690171Z",
     "iopub.status.busy": "2021-08-17T19:47:28.689530Z",
     "iopub.status.idle": "2021-08-17T19:47:28.692778Z",
     "shell.execute_reply": "2021-08-17T19:47:28.693167Z",
     "shell.execute_reply.started": "2021-08-17T18:55:32.347871Z"
    },
    "papermill": {
     "duration": 0.057537,
     "end_time": "2021-08-17T19:47:28.693312",
     "exception": false,
     "start_time": "2021-08-17T19:47:28.635775",
     "status": "completed"
    },
    "tags": [
    ]
   },
   "outputs": [
    {
     "data": {
      "text/html": [
       "<div>\n",
       "<style scoped>\n",
       "    .dataframe tbody tr th:only-of-type {\n",
       "        vertical-align: middle;\n",
       "    }\n",
       "\n",
       "    .dataframe tbody tr th {\n",
       "        vertical-align: top;\n",
       "    }\n",
       "\n",
       "    .dataframe thead th {\n",
       "        text-align: right;\n",
       "    }\n",
       "</style>\n",
       "<table border=\"1\" class=\"dataframe\">\n",
       "  <thead>\n",
       "    <tr style=\"text-align: right;\">\n",
       "      <th></th>\n",
       "      <th>time</th>\n",
       "      <th>PM2.5</th>\n",
       "    </tr>\n",
       "  </thead>\n",
       "  <tbody>\n",
       "    <tr>\n",
       "      <th>0</th>\n",
       "      <td>6/1/2021 0:00</td>\n",
       "      <td>28.5</td>\n",
       "    </tr>\n",
       "    <tr>\n",
       "      <th>1</th>\n",
       "      <td>6/1/2021 1:00</td>\n",
       "      <td>13.9</td>\n",
       "    </tr>\n",
       "    <tr>\n",
       "      <th>2</th>\n",
       "      <td>6/1/2021 2:00</td>\n",
       "      <td>10.3</td>\n",
       "    </tr>\n",
       "    <tr>\n",
       "      <th>3</th>\n",
       "      <td>6/1/2021 3:00</td>\n",
       "      <td>9.5</td>\n",
       "    </tr>\n",
       "    <tr>\n",
       "      <th>4</th>\n",
       "      <td>6/1/2021 4:00</td>\n",
       "      <td>7.8</td>\n",
       "    </tr>\n",
       "  </tbody>\n",
       "</table>\n",
       "</div>"
      ],
      "text/plain": [
       "            time  PM2.5\n",
       "0  6/1/2021 0:00   28.5\n",
       "1  6/1/2021 1:00   13.9\n",
       "2  6/1/2021 2:00   10.3\n",
       "3  6/1/2021 3:00    9.5\n",
       "4  6/1/2021 4:00    7.8"
      ]
     },
     "execution_count": 7,
     "metadata": {
     },
     "output_type": "execute_result"
    }
   ],
   "source": [
    "df.reset_index(drop=True,inplace=True)\n",
    "df.head()"
   ]
  },
  {
   "cell_type": "markdown",
   "metadata": {
    "collapsed": false,
    "papermill": {
     "duration": 0.03212,
     "end_time": "2021-08-17T19:47:28.758833",
     "exception": false,
     "start_time": "2021-08-17T19:47:28.726713",
     "status": "completed"
    },
    "tags": [
    ]
   },
   "source": [
    "**TO CHECK THE NULL VALUES IN OUR 2020 DATATSET**"
   ]
  },
  {
   "cell_type": "code",
   "execution_count": 8,
   "metadata": {
    "collapsed": false,
    "execution": {
     "iopub.execute_input": "2021-08-17T19:47:28.829666Z",
     "iopub.status.busy": "2021-08-17T19:47:28.828846Z",
     "iopub.status.idle": "2021-08-17T19:47:28.835023Z",
     "shell.execute_reply": "2021-08-17T19:47:28.835582Z",
     "shell.execute_reply.started": "2021-08-17T18:56:29.038384Z"
    },
    "papermill": {
     "duration": 0.044653,
     "end_time": "2021-08-17T19:47:28.835717",
     "exception": false,
     "start_time": "2021-08-17T19:47:28.791064",
     "status": "completed"
    },
    "tags": [
    ]
   },
   "outputs": [
    {
     "data": {
      "text/plain": [
       "time     0\n",
       "PM2.5    0\n",
       "dtype: int64"
      ]
     },
     "execution_count": 8,
     "metadata": {
     },
     "output_type": "execute_result"
    }
   ],
   "source": [
    "df.isnull().sum()"
   ]
  },
  {
   "cell_type": "code",
   "execution_count": 9,
   "metadata": {
    "collapsed": false,
    "execution": {
     "iopub.execute_input": "2021-08-17T19:47:28.907643Z",
     "iopub.status.busy": "2021-08-17T19:47:28.906806Z",
     "iopub.status.idle": "2021-08-17T19:47:28.922122Z",
     "shell.execute_reply": "2021-08-17T19:47:28.922708Z",
     "shell.execute_reply.started": "2021-08-17T18:56:47.063093Z"
    },
    "papermill": {
     "duration": 0.054882,
     "end_time": "2021-08-17T19:47:28.922898",
     "exception": false,
     "start_time": "2021-08-17T19:47:28.868016",
     "status": "completed"
    },
    "tags": [
    ]
   },
   "outputs": [
    {
     "name": "stdout",
     "output_type": "stream",
     "text": [
      "<class 'pandas.core.frame.DataFrame'>\n",
      "RangeIndex: 2200 entries, 0 to 2199\n",
      "Data columns (total 2 columns):\n",
      " #   Column  Non-Null Count  Dtype  \n",
      "---  ------  --------------  -----  \n",
      " 0   time    2200 non-null   object \n",
      " 1   PM2.5   2200 non-null   float64\n",
      "dtypes: float64(1), object(1)\n",
      "memory usage: 34.5+ KB\n"
     ]
    }
   ],
   "source": [
    "df.info()"
   ]
  },
  {
   "cell_type": "code",
   "execution_count": 10,
   "metadata": {
    "collapsed": false,
    "execution": {
     "iopub.execute_input": "2021-08-17T19:47:28.998645Z",
     "iopub.status.busy": "2021-08-17T19:47:28.997739Z",
     "iopub.status.idle": "2021-08-17T19:47:29.016868Z",
     "shell.execute_reply": "2021-08-17T19:47:29.017632Z",
     "shell.execute_reply.started": "2021-08-17T18:56:59.144807Z"
    },
    "papermill": {
     "duration": 0.057817,
     "end_time": "2021-08-17T19:47:29.017847",
     "exception": false,
     "start_time": "2021-08-17T19:47:28.960030",
     "status": "completed"
    },
    "tags": [
    ]
   },
   "outputs": [
    {
     "name": "stdout",
     "output_type": "stream",
     "text": [
      "column name:time    unique values:2200\n",
      "column name:PM2.5    unique values:352\n"
     ]
    }
   ],
   "source": [
    "for i in df.columns:\n",
    "    print('column name:{}    unique values:{}'.format(i,len(df[i].unique())))"
   ]
  },
  {
   "cell_type": "markdown",
   "metadata": {
    "collapsed": false,
    "papermill": {
     "duration": 0.070893,
     "end_time": "2021-08-17T19:47:29.173474",
     "exception": false,
     "start_time": "2021-08-17T19:47:29.102581",
     "status": "completed"
    },
    "tags": [
    ]
   },
   "source": [
    "**DEALING WITH MISSING VALUES**"
   ]
  },
  {
   "cell_type": "code",
   "execution_count": 14,
   "metadata": {
    "collapsed": false,
    "execution": {
     "iopub.execute_input": "2021-08-17T19:47:29.297104Z",
     "iopub.status.busy": "2021-08-17T19:47:29.296307Z",
     "iopub.status.idle": "2021-08-17T19:47:29.340918Z",
     "shell.execute_reply": "2021-08-17T19:47:29.341596Z",
     "shell.execute_reply.started": "2021-08-17T18:57:47.739474Z"
    },
    "papermill": {
     "duration": 0.111518,
     "end_time": "2021-08-17T19:47:29.341800",
     "exception": false,
     "start_time": "2021-08-17T19:47:29.230282",
     "status": "completed"
    },
    "tags": [
    ]
   },
   "outputs": [
    {
     "name": "stdout",
     "output_type": "stream",
     "text": [
      "Index(['time', 'PM2.5'], dtype='object')\n"
     ]
    },
    {
     "ename": "KeyError",
     "evalue": "'Correct_PM10_Column_Name'",
     "output_type": "error",
     "traceback": [
      "\u001b[0;31m---------------------------------------------------------------------------\u001b[0m",
      "\u001b[0;31mKeyError\u001b[0m                                  Traceback (most recent call last)",
      "\u001b[0;32m/usr/local/lib/python3.10/dist-packages/pandas/core/indexes/base.py\u001b[0m in \u001b[0;36mget_loc\u001b[0;34m(self, key)\u001b[0m\n\u001b[1;32m   3652\u001b[0m         \u001b[0;32mtry\u001b[0m\u001b[0;34m:\u001b[0m\u001b[0;34m\u001b[0m\u001b[0;34m\u001b[0m\u001b[0m\n\u001b[0;32m-> 3653\u001b[0;31m             \u001b[0;32mreturn\u001b[0m \u001b[0mself\u001b[0m\u001b[0;34m.\u001b[0m\u001b[0m_engine\u001b[0m\u001b[0;34m.\u001b[0m\u001b[0mget_loc\u001b[0m\u001b[0;34m(\u001b[0m\u001b[0mcasted_key\u001b[0m\u001b[0;34m)\u001b[0m\u001b[0;34m\u001b[0m\u001b[0;34m\u001b[0m\u001b[0m\n\u001b[0m\u001b[1;32m   3654\u001b[0m         \u001b[0;32mexcept\u001b[0m \u001b[0mKeyError\u001b[0m \u001b[0;32mas\u001b[0m \u001b[0merr\u001b[0m\u001b[0;34m:\u001b[0m\u001b[0;34m\u001b[0m\u001b[0;34m\u001b[0m\u001b[0m\n",
      "\u001b[0;32m/usr/local/lib/python3.10/dist-packages/pandas/_libs/index.pyx\u001b[0m in \u001b[0;36mpandas._libs.index.IndexEngine.get_loc\u001b[0;34m()\u001b[0m\n",
      "\u001b[0;32m/usr/local/lib/python3.10/dist-packages/pandas/_libs/index.pyx\u001b[0m in \u001b[0;36mpandas._libs.index.IndexEngine.get_loc\u001b[0;34m()\u001b[0m\n",
      "\u001b[0;32mpandas/_libs/hashtable_class_helper.pxi\u001b[0m in \u001b[0;36mpandas._libs.hashtable.PyObjectHashTable.get_item\u001b[0;34m()\u001b[0m\n",
      "\u001b[0;32mpandas/_libs/hashtable_class_helper.pxi\u001b[0m in \u001b[0;36mpandas._libs.hashtable.PyObjectHashTable.get_item\u001b[0;34m()\u001b[0m\n",
      "\u001b[0;31mKeyError\u001b[0m: 'Correct_PM10_Column_Name'",
      "\nThe above exception was the direct cause of the following exception:\n",
      "\u001b[0;31mKeyError\u001b[0m                                  Traceback (most recent call last)",
      "\u001b[0;32m/tmp/ipykernel_1166/3862947428.py\u001b[0m in \u001b[0;36m<cell line: 2>\u001b[0;34m()\u001b[0m\n\u001b[1;32m      1\u001b[0m \u001b[0mprint\u001b[0m\u001b[0;34m(\u001b[0m\u001b[0mdf\u001b[0m\u001b[0;34m.\u001b[0m\u001b[0mcolumns\u001b[0m\u001b[0;34m)\u001b[0m\u001b[0;34m\u001b[0m\u001b[0;34m\u001b[0m\u001b[0m\n\u001b[0;32m----> 2\u001b[0;31m \u001b[0mdf\u001b[0m\u001b[0;34m[\u001b[0m\u001b[0;34m'Correct_PM10_Column_Name'\u001b[0m\u001b[0;34m]\u001b[0m \u001b[0;34m=\u001b[0m \u001b[0mdf\u001b[0m\u001b[0;34m[\u001b[0m\u001b[0;34m'Correct_PM10_Column_Name'\u001b[0m\u001b[0;34m]\u001b[0m\u001b[0;34m.\u001b[0m\u001b[0mfillna\u001b[0m\u001b[0;34m(\u001b[0m\u001b[0mdf\u001b[0m\u001b[0;34m[\u001b[0m\u001b[0;34m'Correct_PM10_Column_Name'\u001b[0m\u001b[0;34m]\u001b[0m\u001b[0;34m.\u001b[0m\u001b[0mmean\u001b[0m\u001b[0;34m(\u001b[0m\u001b[0;34m)\u001b[0m\u001b[0;34m)\u001b[0m\u001b[0;34m\u001b[0m\u001b[0;34m\u001b[0m\u001b[0m\n\u001b[0m",
      "\u001b[0;32m/usr/local/lib/python3.10/dist-packages/pandas/core/frame.py\u001b[0m in \u001b[0;36m__getitem__\u001b[0;34m(self, key)\u001b[0m\n\u001b[1;32m   3759\u001b[0m             \u001b[0;32mif\u001b[0m \u001b[0mself\u001b[0m\u001b[0;34m.\u001b[0m\u001b[0mcolumns\u001b[0m\u001b[0;34m.\u001b[0m\u001b[0mnlevels\u001b[0m \u001b[0;34m>\u001b[0m \u001b[0;36m1\u001b[0m\u001b[0;34m:\u001b[0m\u001b[0;34m\u001b[0m\u001b[0;34m\u001b[0m\u001b[0m\n\u001b[1;32m   3760\u001b[0m                 \u001b[0;32mreturn\u001b[0m \u001b[0mself\u001b[0m\u001b[0;34m.\u001b[0m\u001b[0m_getitem_multilevel\u001b[0m\u001b[0;34m(\u001b[0m\u001b[0mkey\u001b[0m\u001b[0;34m)\u001b[0m\u001b[0;34m\u001b[0m\u001b[0;34m\u001b[0m\u001b[0m\n\u001b[0;32m-> 3761\u001b[0;31m             \u001b[0mindexer\u001b[0m \u001b[0;34m=\u001b[0m \u001b[0mself\u001b[0m\u001b[0;34m.\u001b[0m\u001b[0mcolumns\u001b[0m\u001b[0;34m.\u001b[0m\u001b[0mget_loc\u001b[0m\u001b[0;34m(\u001b[0m\u001b[0mkey\u001b[0m\u001b[0;34m)\u001b[0m\u001b[0;34m\u001b[0m\u001b[0;34m\u001b[0m\u001b[0m\n\u001b[0m\u001b[1;32m   3762\u001b[0m             \u001b[0;32mif\u001b[0m \u001b[0mis_integer\u001b[0m\u001b[0;34m(\u001b[0m\u001b[0mindexer\u001b[0m\u001b[0;34m)\u001b[0m\u001b[0;34m:\u001b[0m\u001b[0;34m\u001b[0m\u001b[0;34m\u001b[0m\u001b[0m\n\u001b[1;32m   3763\u001b[0m                 \u001b[0mindexer\u001b[0m \u001b[0;34m=\u001b[0m \u001b[0;34m[\u001b[0m\u001b[0mindexer\u001b[0m\u001b[0;34m]\u001b[0m\u001b[0;34m\u001b[0m\u001b[0;34m\u001b[0m\u001b[0m\n",
      "\u001b[0;32m/usr/local/lib/python3.10/dist-packages/pandas/core/indexes/base.py\u001b[0m in \u001b[0;36mget_loc\u001b[0;34m(self, key)\u001b[0m\n\u001b[1;32m   3653\u001b[0m             \u001b[0;32mreturn\u001b[0m \u001b[0mself\u001b[0m\u001b[0;34m.\u001b[0m\u001b[0m_engine\u001b[0m\u001b[0;34m.\u001b[0m\u001b[0mget_loc\u001b[0m\u001b[0;34m(\u001b[0m\u001b[0mcasted_key\u001b[0m\u001b[0;34m)\u001b[0m\u001b[0;34m\u001b[0m\u001b[0;34m\u001b[0m\u001b[0m\n\u001b[1;32m   3654\u001b[0m         \u001b[0;32mexcept\u001b[0m \u001b[0mKeyError\u001b[0m \u001b[0;32mas\u001b[0m \u001b[0merr\u001b[0m\u001b[0;34m:\u001b[0m\u001b[0;34m\u001b[0m\u001b[0;34m\u001b[0m\u001b[0m\n\u001b[0;32m-> 3655\u001b[0;31m             \u001b[0;32mraise\u001b[0m \u001b[0mKeyError\u001b[0m\u001b[0;34m(\u001b[0m\u001b[0mkey\u001b[0m\u001b[0;34m)\u001b[0m \u001b[0;32mfrom\u001b[0m \u001b[0merr\u001b[0m\u001b[0;34m\u001b[0m\u001b[0;34m\u001b[0m\u001b[0m\n\u001b[0m\u001b[1;32m   3656\u001b[0m         \u001b[0;32mexcept\u001b[0m \u001b[0mTypeError\u001b[0m\u001b[0;34m:\u001b[0m\u001b[0;34m\u001b[0m\u001b[0;34m\u001b[0m\u001b[0m\n\u001b[1;32m   3657\u001b[0m             \u001b[0;31m# If we have a listlike key, _check_indexing_error will raise\u001b[0m\u001b[0;34m\u001b[0m\u001b[0;34m\u001b[0m\u001b[0m\n",
      "\u001b[0;31mKeyError\u001b[0m: 'Correct_PM10_Column_Name'"
     ]
    }
   ],
   "source": [
    "print(df.columns)\n",
    "df['Correct_PM10_Column_Name'] = df['Correct_PM10_Column_Name'].fillna(df['Correct_PM10_Column_Name'].mean())\n"
   ]
  },
  {
   "cell_type": "markdown",
   "metadata": {
    "collapsed": false,
    "papermill": {
     "duration": 0.074059,
     "end_time": "2021-08-17T19:47:29.513564",
     "exception": false,
     "start_time": "2021-08-17T19:47:29.439505",
     "status": "completed"
    },
    "tags": [
    ]
   },
   "source": [
    "**WE ARE FILLING MISSING VALUES IN 2 DIFFERENT CATEGORIES**\n",
    "\n",
    "\n",
    "**FOR NUMERIC VALUES : MEAN()**\n",
    "\n",
    "\n",
    "**FOR CATEGORICAL VALUES : MODE()**"
   ]
  },
  {
   "cell_type": "code",
   "execution_count": 15,
   "metadata": {
    "collapsed": false,
    "execution": {
     "iopub.execute_input": "2021-08-17T19:47:29.678258Z",
     "iopub.status.busy": "2021-08-17T19:47:29.677365Z",
     "iopub.status.idle": "2021-08-17T19:47:29.723363Z",
     "shell.execute_reply": "2021-08-17T19:47:29.721960Z",
     "shell.execute_reply.started": "2021-08-17T19:00:29.587635Z"
    },
    "papermill": {
     "duration": 0.137068,
     "end_time": "2021-08-17T19:47:29.723563",
     "exception": false,
     "start_time": "2021-08-17T19:47:29.586495",
     "status": "completed"
    },
    "tags": [
    ]
   },
   "outputs": [
    {
     "data": {
      "text/html": [
       "<div>\n",
       "<style scoped>\n",
       "    .dataframe tbody tr th:only-of-type {\n",
       "        vertical-align: middle;\n",
       "    }\n",
       "\n",
       "    .dataframe tbody tr th {\n",
       "        vertical-align: top;\n",
       "    }\n",
       "\n",
       "    .dataframe thead th {\n",
       "        text-align: right;\n",
       "    }\n",
       "</style>\n",
       "<table border=\"1\" class=\"dataframe\">\n",
       "  <thead>\n",
       "    <tr style=\"text-align: right;\">\n",
       "      <th></th>\n",
       "      <th>time</th>\n",
       "      <th>PM2.5</th>\n",
       "    </tr>\n",
       "  </thead>\n",
       "  <tbody>\n",
       "    <tr>\n",
       "      <th>0</th>\n",
       "      <td>6/1/2021 0:00</td>\n",
       "      <td>28.5</td>\n",
       "    </tr>\n",
       "    <tr>\n",
       "      <th>1</th>\n",
       "      <td>6/1/2021 1:00</td>\n",
       "      <td>13.9</td>\n",
       "    </tr>\n",
       "    <tr>\n",
       "      <th>2</th>\n",
       "      <td>6/1/2021 2:00</td>\n",
       "      <td>10.3</td>\n",
       "    </tr>\n",
       "    <tr>\n",
       "      <th>3</th>\n",
       "      <td>6/1/2021 3:00</td>\n",
       "      <td>9.5</td>\n",
       "    </tr>\n",
       "    <tr>\n",
       "      <th>4</th>\n",
       "      <td>6/1/2021 4:00</td>\n",
       "      <td>7.8</td>\n",
       "    </tr>\n",
       "  </tbody>\n",
       "</table>\n",
       "</div>"
      ],
      "text/plain": [
       "            time  PM2.5\n",
       "0  6/1/2021 0:00   28.5\n",
       "1  6/1/2021 1:00   13.9\n",
       "2  6/1/2021 2:00   10.3\n",
       "3  6/1/2021 3:00    9.5\n",
       "4  6/1/2021 4:00    7.8"
      ]
     },
     "execution_count": 15,
     "metadata": {
     },
     "output_type": "execute_result"
    }
   ],
   "source": [
    "df.head()"
   ]
  },
  {
   "cell_type": "code",
   "execution_count": 16,
   "metadata": {
    "collapsed": false,
    "execution": {
     "iopub.execute_input": "2021-08-17T19:47:29.890658Z",
     "iopub.status.busy": "2021-08-17T19:47:29.889781Z",
     "iopub.status.idle": "2021-08-17T19:47:29.935711Z",
     "shell.execute_reply": "2021-08-17T19:47:29.934753Z",
     "shell.execute_reply.started": "2021-08-17T19:01:21.192542Z"
    },
    "papermill": {
     "duration": 0.132882,
     "end_time": "2021-08-17T19:47:29.935881",
     "exception": false,
     "start_time": "2021-08-17T19:47:29.802999",
     "status": "completed"
    },
    "tags": [
    ]
   },
   "outputs": [
    {
     "ename": "KeyError",
     "evalue": "\"None of [Index(['City', 'AQI', 'PM10', 'CO'], dtype='object')] are in the [columns]\"",
     "output_type": "error",
     "traceback": [
      "\u001b[0;31m---------------------------------------------------------------------------\u001b[0m",
      "\u001b[0;31mKeyError\u001b[0m                                  Traceback (most recent call last)",
      "\u001b[0;32m/tmp/ipykernel_1166/2740363387.py\u001b[0m in \u001b[0;36m<cell line: 2>\u001b[0;34m()\u001b[0m\n\u001b[1;32m      1\u001b[0m \u001b[0;31m# how much is the average amount of pollution in each city stations\u001b[0m\u001b[0;34m\u001b[0m\u001b[0;34m\u001b[0m\u001b[0m\n\u001b[0;32m----> 2\u001b[0;31m \u001b[0mmost_polluted\u001b[0m \u001b[0;34m=\u001b[0m \u001b[0mdf\u001b[0m\u001b[0;34m[\u001b[0m\u001b[0;34m[\u001b[0m\u001b[0;34m'City'\u001b[0m\u001b[0;34m,\u001b[0m \u001b[0;34m'AQI'\u001b[0m\u001b[0;34m,\u001b[0m \u001b[0;34m'PM10'\u001b[0m\u001b[0;34m,\u001b[0m \u001b[0;34m'CO'\u001b[0m\u001b[0;34m]\u001b[0m\u001b[0;34m]\u001b[0m\u001b[0;34m.\u001b[0m\u001b[0mgroupby\u001b[0m\u001b[0;34m(\u001b[0m\u001b[0;34m[\u001b[0m\u001b[0;34m'City'\u001b[0m\u001b[0;34m]\u001b[0m\u001b[0;34m)\u001b[0m\u001b[0;34m.\u001b[0m\u001b[0mmean\u001b[0m\u001b[0;34m(\u001b[0m\u001b[0;34m)\u001b[0m\u001b[0;34m.\u001b[0m\u001b[0msort_values\u001b[0m\u001b[0;34m(\u001b[0m\u001b[0mby\u001b[0m \u001b[0;34m=\u001b[0m \u001b[0;34m'AQI'\u001b[0m\u001b[0;34m,\u001b[0m \u001b[0mascending\u001b[0m \u001b[0;34m=\u001b[0m \u001b[0;32mFalse\u001b[0m\u001b[0;34m)\u001b[0m\u001b[0;34m\u001b[0m\u001b[0;34m\u001b[0m\u001b[0m\n\u001b[0m\u001b[1;32m      3\u001b[0m \u001b[0mmost_polluted\u001b[0m\u001b[0;34m\u001b[0m\u001b[0;34m\u001b[0m\u001b[0m\n",
      "\u001b[0;32m/usr/local/lib/python3.10/dist-packages/pandas/core/frame.py\u001b[0m in \u001b[0;36m__getitem__\u001b[0;34m(self, key)\u001b[0m\n\u001b[1;32m   3765\u001b[0m             \u001b[0;32mif\u001b[0m \u001b[0mis_iterator\u001b[0m\u001b[0;34m(\u001b[0m\u001b[0mkey\u001b[0m\u001b[0;34m)\u001b[0m\u001b[0;34m:\u001b[0m\u001b[0;34m\u001b[0m\u001b[0;34m\u001b[0m\u001b[0m\n\u001b[1;32m   3766\u001b[0m                 \u001b[0mkey\u001b[0m \u001b[0;34m=\u001b[0m \u001b[0mlist\u001b[0m\u001b[0;34m(\u001b[0m\u001b[0mkey\u001b[0m\u001b[0;34m)\u001b[0m\u001b[0;34m\u001b[0m\u001b[0;34m\u001b[0m\u001b[0m\n\u001b[0;32m-> 3767\u001b[0;31m             \u001b[0mindexer\u001b[0m \u001b[0;34m=\u001b[0m \u001b[0mself\u001b[0m\u001b[0;34m.\u001b[0m\u001b[0mcolumns\u001b[0m\u001b[0;34m.\u001b[0m\u001b[0m_get_indexer_strict\u001b[0m\u001b[0;34m(\u001b[0m\u001b[0mkey\u001b[0m\u001b[0;34m,\u001b[0m \u001b[0;34m\"columns\"\u001b[0m\u001b[0;34m)\u001b[0m\u001b[0;34m[\u001b[0m\u001b[0;36m1\u001b[0m\u001b[0;34m]\u001b[0m\u001b[0;34m\u001b[0m\u001b[0;34m\u001b[0m\u001b[0m\n\u001b[0m\u001b[1;32m   3768\u001b[0m \u001b[0;34m\u001b[0m\u001b[0m\n\u001b[1;32m   3769\u001b[0m         \u001b[0;31m# take() does not accept boolean indexers\u001b[0m\u001b[0;34m\u001b[0m\u001b[0;34m\u001b[0m\u001b[0m\n",
      "\u001b[0;32m/usr/local/lib/python3.10/dist-packages/pandas/core/indexes/base.py\u001b[0m in \u001b[0;36m_get_indexer_strict\u001b[0;34m(self, key, axis_name)\u001b[0m\n\u001b[1;32m   5875\u001b[0m             \u001b[0mkeyarr\u001b[0m\u001b[0;34m,\u001b[0m \u001b[0mindexer\u001b[0m\u001b[0;34m,\u001b[0m \u001b[0mnew_indexer\u001b[0m \u001b[0;34m=\u001b[0m \u001b[0mself\u001b[0m\u001b[0;34m.\u001b[0m\u001b[0m_reindex_non_unique\u001b[0m\u001b[0;34m(\u001b[0m\u001b[0mkeyarr\u001b[0m\u001b[0;34m)\u001b[0m\u001b[0;34m\u001b[0m\u001b[0;34m\u001b[0m\u001b[0m\n\u001b[1;32m   5876\u001b[0m \u001b[0;34m\u001b[0m\u001b[0m\n\u001b[0;32m-> 5877\u001b[0;31m         \u001b[0mself\u001b[0m\u001b[0;34m.\u001b[0m\u001b[0m_raise_if_missing\u001b[0m\u001b[0;34m(\u001b[0m\u001b[0mkeyarr\u001b[0m\u001b[0;34m,\u001b[0m \u001b[0mindexer\u001b[0m\u001b[0;34m,\u001b[0m \u001b[0maxis_name\u001b[0m\u001b[0;34m)\u001b[0m\u001b[0;34m\u001b[0m\u001b[0;34m\u001b[0m\u001b[0m\n\u001b[0m\u001b[1;32m   5878\u001b[0m \u001b[0;34m\u001b[0m\u001b[0m\n\u001b[1;32m   5879\u001b[0m         \u001b[0mkeyarr\u001b[0m \u001b[0;34m=\u001b[0m \u001b[0mself\u001b[0m\u001b[0;34m.\u001b[0m\u001b[0mtake\u001b[0m\u001b[0;34m(\u001b[0m\u001b[0mindexer\u001b[0m\u001b[0;34m)\u001b[0m\u001b[0;34m\u001b[0m\u001b[0;34m\u001b[0m\u001b[0m\n",
      "\u001b[0;32m/usr/local/lib/python3.10/dist-packages/pandas/core/indexes/base.py\u001b[0m in \u001b[0;36m_raise_if_missing\u001b[0;34m(self, key, indexer, axis_name)\u001b[0m\n\u001b[1;32m   5936\u001b[0m                 \u001b[0;32mif\u001b[0m \u001b[0muse_interval_msg\u001b[0m\u001b[0;34m:\u001b[0m\u001b[0;34m\u001b[0m\u001b[0;34m\u001b[0m\u001b[0m\n\u001b[1;32m   5937\u001b[0m                     \u001b[0mkey\u001b[0m \u001b[0;34m=\u001b[0m \u001b[0mlist\u001b[0m\u001b[0;34m(\u001b[0m\u001b[0mkey\u001b[0m\u001b[0;34m)\u001b[0m\u001b[0;34m\u001b[0m\u001b[0;34m\u001b[0m\u001b[0m\n\u001b[0;32m-> 5938\u001b[0;31m                 \u001b[0;32mraise\u001b[0m \u001b[0mKeyError\u001b[0m\u001b[0;34m(\u001b[0m\u001b[0;34mf\"None of [{key}] are in the [{axis_name}]\"\u001b[0m\u001b[0;34m)\u001b[0m\u001b[0;34m\u001b[0m\u001b[0;34m\u001b[0m\u001b[0m\n\u001b[0m\u001b[1;32m   5939\u001b[0m \u001b[0;34m\u001b[0m\u001b[0m\n\u001b[1;32m   5940\u001b[0m             \u001b[0mnot_found\u001b[0m \u001b[0;34m=\u001b[0m \u001b[0mlist\u001b[0m\u001b[0;34m(\u001b[0m\u001b[0mensure_index\u001b[0m\u001b[0;34m(\u001b[0m\u001b[0mkey\u001b[0m\u001b[0;34m)\u001b[0m\u001b[0;34m[\u001b[0m\u001b[0mmissing_mask\u001b[0m\u001b[0;34m.\u001b[0m\u001b[0mnonzero\u001b[0m\u001b[0;34m(\u001b[0m\u001b[0;34m)\u001b[0m\u001b[0;34m[\u001b[0m\u001b[0;36m0\u001b[0m\u001b[0;34m]\u001b[0m\u001b[0;34m]\u001b[0m\u001b[0;34m.\u001b[0m\u001b[0munique\u001b[0m\u001b[0;34m(\u001b[0m\u001b[0;34m)\u001b[0m\u001b[0;34m)\u001b[0m\u001b[0;34m\u001b[0m\u001b[0;34m\u001b[0m\u001b[0m\n",
      "\u001b[0;31mKeyError\u001b[0m: \"None of [Index(['City', 'AQI', 'PM10', 'CO'], dtype='object')] are in the [columns]\""
     ]
    }
   ],
   "source": [
    "# how much is the average amount of pollution in each city stations\n",
    "most_polluted = df[['City', 'AQI', 'PM10', 'CO']].groupby(['City']).mean().sort_values(by = 'AQI', ascending = False)\n",
    "most_polluted"
   ]
  },
  {
   "cell_type": "code",
   "execution_count": 0,
   "metadata": {
    "collapsed": false,
    "execution": {
     "iopub.execute_input": "2021-08-17T19:47:30.180658Z",
     "iopub.status.busy": "2021-08-17T19:47:30.175981Z",
     "iopub.status.idle": "2021-08-17T19:47:32.464153Z",
     "shell.execute_reply": "2021-08-17T19:47:32.457609Z",
     "shell.execute_reply.started": "2021-08-17T19:02:26.57474Z"
    },
    "papermill": {
     "duration": 2.440647,
     "end_time": "2021-08-17T19:47:32.472926",
     "exception": false,
     "start_time": "2021-08-17T19:47:30.032279",
     "status": "completed"
    },
    "tags": [
    ]
   },
   "outputs": [
   ],
   "source": [
    "import matplotlib.pyplot as plt\n",
    "\n",
    "plt.style.use('seaborn-whitegrid')\n",
    "f, ax_ = plt.subplots(1, 3, figsize = (15,15))\n",
    "\n",
    "bar1 = sns.barplot(x = most_polluted.AQI,\n",
    "                   y = most_polluted.index,\n",
    "                   palette = 'Reds_r',\n",
    "                   ax = ax_[0]);\n",
    "\n",
    "bar1 = sns.barplot(x = most_polluted.PM10,\n",
    "                   y = most_polluted.index,\n",
    "                   palette = 'RdBu',\n",
    "                   ax = ax_[1]);\n",
    "\n",
    "bar1 = sns.barplot(x = most_polluted.CO,\n",
    "                   y = most_polluted.index,\n",
    "                   palette = 'RdBu',\n",
    "                   ax = ax_[2]);\n",
    "\n",
    "titles = ['AirQualityIndex', 'ParticulateMatter10', 'CO']\n",
    "for i in range(3) :\n",
    "    ax_[i].set_ylabel('')   \n",
    "    ax_[i].set_yticklabels(labels = ax_[i].get_yticklabels(),fontsize = 14);\n",
    "    ax_[i].set_title(titles[i])\n",
    "    f.tight_layout()"
   ]
  },
  {
   "cell_type": "markdown",
   "metadata": {
    "collapsed": false,
    "papermill": {
     "duration": 0.069373,
     "end_time": "2021-08-17T19:47:32.637424",
     "exception": false,
     "start_time": "2021-08-17T19:47:32.568051",
     "status": "completed"
    },
    "tags": [
    ]
   },
   "source": [
    "**AS THERE ARE MANY POLUTANTS IN THE AIR WE ARE CLASSIFYING THEM INTO 2 CATEGORIES**\n",
    "\n",
    "**VEHICLE_POLUTANTS : PM2.5 , PM10 , NO , NOx , NH3 , CO**\n",
    "\n",
    "**INDUSTRY_POLUTANT : SO2 , O3 , BENZENE , TOLUENE , XYLENE**"
   ]
  },
  {
   "cell_type": "code",
   "execution_count": 0,
   "metadata": {
    "collapsed": false,
    "execution": {
     "iopub.execute_input": "2021-08-17T19:47:32.760402Z",
     "iopub.status.busy": "2021-08-17T19:47:32.759533Z",
     "iopub.status.idle": "2021-08-17T19:47:32.802153Z",
     "shell.execute_reply": "2021-08-17T19:47:32.804440Z",
     "shell.execute_reply.started": "2021-08-17T19:03:22.164895Z"
    },
    "papermill": {
     "duration": 0.110512,
     "end_time": "2021-08-17T19:47:32.804642",
     "exception": false,
     "start_time": "2021-08-17T19:47:32.694130",
     "status": "completed"
    },
    "tags": [
    ]
   },
   "outputs": [
   ],
   "source": [
    "df1=df.copy()\n",
    "df1['Vehicle_Pollution_content']=df1['PM2.5']+df1['PM10']+df1['NO']+df1['NOx']+df1['NH3']+df1['CO']\n",
    "df1['Industry_pollutants']=df1['SO2']+df1['O3']+df1['Benzene']+df1['Toluene']+df1['Xylene']\n",
    "df1.drop(['PM2.5','PM10','NO','NO2','NOx','NH3','CO','SO2','O3','Benzene','Toluene','Xylene'],axis=1,inplace=True)\n",
    "df1.head()"
   ]
  },
  {
   "cell_type": "markdown",
   "metadata": {
    "collapsed": false,
    "papermill": {
     "duration": 0.062458,
     "end_time": "2021-08-17T19:47:32.929501",
     "exception": false,
     "start_time": "2021-08-17T19:47:32.867043",
     "status": "completed"
    },
    "tags": [
    ]
   },
   "source": [
    "**DISTRIBUTING DATE INTO DAY AND MONTH COLUMNS**"
   ]
  },
  {
   "cell_type": "code",
   "execution_count": 0,
   "metadata": {
    "collapsed": false,
    "execution": {
     "iopub.execute_input": "2021-08-17T19:47:33.077723Z",
     "iopub.status.busy": "2021-08-17T19:47:33.076926Z",
     "iopub.status.idle": "2021-08-17T19:47:33.115765Z",
     "shell.execute_reply": "2021-08-17T19:47:33.116434Z",
     "shell.execute_reply.started": "2021-08-17T19:07:45.185541Z"
    },
    "papermill": {
     "duration": 0.11997,
     "end_time": "2021-08-17T19:47:33.116625",
     "exception": false,
     "start_time": "2021-08-17T19:47:32.996655",
     "status": "completed"
    },
    "tags": [
    ]
   },
   "outputs": [
   ],
   "source": [
    "df1['Day_date']=pd.to_datetime(df1['Date'],format='%Y/%m/%d').dt.day\n",
    "df1['month_date']=pd.to_datetime(df1['Date'],format='%Y/%m/%d').dt.month\n",
    "df1.drop(['Date'],axis=1,inplace=True)\n",
    "df1.head()"
   ]
  },
  {
   "cell_type": "code",
   "execution_count": 0,
   "metadata": {
    "collapsed": false,
    "execution": {
     "iopub.execute_input": "2021-08-17T19:47:33.256410Z",
     "iopub.status.busy": "2021-08-17T19:47:33.255548Z",
     "iopub.status.idle": "2021-08-17T19:47:33.300307Z",
     "shell.execute_reply": "2021-08-17T19:47:33.300974Z",
     "shell.execute_reply.started": "2021-08-17T19:08:10.444604Z"
    },
    "papermill": {
     "duration": 0.119858,
     "end_time": "2021-08-17T19:47:33.301181",
     "exception": false,
     "start_time": "2021-08-17T19:47:33.181323",
     "status": "completed"
    },
    "tags": [
    ]
   },
   "outputs": [
   ],
   "source": [
    "df1.describe()"
   ]
  },
  {
   "cell_type": "markdown",
   "metadata": {
    "collapsed": false,
    "papermill": {
     "duration": 0.059072,
     "end_time": "2021-08-17T19:47:33.420683",
     "exception": false,
     "start_time": "2021-08-17T19:47:33.361611",
     "status": "completed"
    },
    "tags": [
    ]
   },
   "source": [
    "**IDENTIFYING OUTLIERS**"
   ]
  },
  {
   "cell_type": "code",
   "execution_count": 16,
   "metadata": {
    "collapsed": false,
    "execution": {
     "iopub.execute_input": "2021-08-17T19:47:33.569059Z",
     "iopub.status.busy": "2021-08-17T19:47:33.567923Z",
     "iopub.status.idle": "2021-08-17T19:47:33.577751Z",
     "shell.execute_reply": "2021-08-17T19:47:33.578403Z",
     "shell.execute_reply.started": "2021-08-17T19:08:47.750411Z"
    },
    "papermill": {
     "duration": 0.098555,
     "end_time": "2021-08-17T19:47:33.578599",
     "exception": false,
     "start_time": "2021-08-17T19:47:33.480044",
     "status": "completed"
    },
    "tags": [
    ]
   },
   "outputs": [
    {
     "data": {
      "text/html": [
       "<div>\n",
       "<style scoped>\n",
       "    .dataframe tbody tr th:only-of-type {\n",
       "        vertical-align: middle;\n",
       "    }\n",
       "\n",
       "    .dataframe tbody tr th {\n",
       "        vertical-align: top;\n",
       "    }\n",
       "\n",
       "    .dataframe thead th {\n",
       "        text-align: right;\n",
       "    }\n",
       "</style>\n",
       "<table border=\"1\" class=\"dataframe\">\n",
       "  <thead>\n",
       "    <tr style=\"text-align: right;\">\n",
       "      <th></th>\n",
       "      <th>City</th>\n",
       "      <th>AQI</th>\n",
       "      <th>AQI_Bucket</th>\n",
       "      <th>Vehicle_Pollution_content</th>\n",
       "      <th>Industry_pollutants</th>\n",
       "      <th>Day_date</th>\n",
       "      <th>month_date</th>\n",
       "    </tr>\n",
       "  </thead>\n",
       "  <tbody>\n",
       "    <tr>\n",
       "      <th>1159</th>\n",
       "      <td>Brajrajnagar</td>\n",
       "      <td>74.0</td>\n",
       "      <td>Moderate</td>\n",
       "      <td>1031.71</td>\n",
       "      <td>63.740631</td>\n",
       "      <td>11</td>\n",
       "      <td>5</td>\n",
       "    </tr>\n",
       "    <tr>\n",
       "      <th>1162</th>\n",
       "      <td>Brajrajnagar</td>\n",
       "      <td>178.0</td>\n",
       "      <td>Moderate</td>\n",
       "      <td>1010.67</td>\n",
       "      <td>109.989878</td>\n",
       "      <td>14</td>\n",
       "      <td>5</td>\n",
       "    </tr>\n",
       "    <tr>\n",
       "      <th>1760</th>\n",
       "      <td>Delhi</td>\n",
       "      <td>492.0</td>\n",
       "      <td>Severe</td>\n",
       "      <td>1160.54</td>\n",
       "      <td>128.740000</td>\n",
       "      <td>1</td>\n",
       "      <td>1</td>\n",
       "    </tr>\n",
       "    <tr>\n",
       "      <th>1761</th>\n",
       "      <td>Delhi</td>\n",
       "      <td>485.0</td>\n",
       "      <td>Severe</td>\n",
       "      <td>1092.40</td>\n",
       "      <td>141.570000</td>\n",
       "      <td>2</td>\n",
       "      <td>1</td>\n",
       "    </tr>\n",
       "    <tr>\n",
       "      <th>2302</th>\n",
       "      <td>Guwahati</td>\n",
       "      <td>462.0</td>\n",
       "      <td>Severe</td>\n",
       "      <td>1154.02</td>\n",
       "      <td>46.260631</td>\n",
       "      <td>15</td>\n",
       "      <td>1</td>\n",
       "    </tr>\n",
       "  </tbody>\n",
       "</table>\n",
       "</div>"
      ],
      "text/plain": [
       "              City    AQI AQI_Bucket  Vehicle_Pollution_content  \\\n",
       "1159  Brajrajnagar   74.0   Moderate                    1031.71   \n",
       "1162  Brajrajnagar  178.0   Moderate                    1010.67   \n",
       "1760         Delhi  492.0     Severe                    1160.54   \n",
       "1761         Delhi  485.0     Severe                    1092.40   \n",
       "2302      Guwahati  462.0     Severe                    1154.02   \n",
       "\n",
       "      Industry_pollutants  Day_date  month_date  \n",
       "1159            63.740631        11           5  \n",
       "1162           109.989878        14           5  \n",
       "1760           128.740000         1           1  \n",
       "1761           141.570000         2           1  \n",
       "2302            46.260631        15           1  "
      ]
     },
     "execution_count": 16,
     "metadata": {
     },
     "output_type": "execute_result"
    }
   ],
   "source": [
    "outliers=df1.loc[df1['Vehicle_Pollution_content'] > (1000)]\n",
    "outliers"
   ]
  },
  {
   "cell_type": "code",
   "execution_count": 17,
   "metadata": {
    "collapsed": false,
    "execution": {
     "iopub.execute_input": "2021-08-17T19:47:33.726764Z",
     "iopub.status.busy": "2021-08-17T19:47:33.725942Z",
     "iopub.status.idle": "2021-08-17T19:47:33.737277Z",
     "shell.execute_reply": "2021-08-17T19:47:33.737948Z",
     "shell.execute_reply.started": "2021-08-17T19:09:08.481569Z"
    },
    "papermill": {
     "duration": 0.098106,
     "end_time": "2021-08-17T19:47:33.738089",
     "exception": false,
     "start_time": "2021-08-17T19:47:33.639983",
     "status": "completed"
    },
    "tags": [
    ]
   },
   "outputs": [
    {
     "data": {
      "text/html": [
       "<div>\n",
       "<style scoped>\n",
       "    .dataframe tbody tr th:only-of-type {\n",
       "        vertical-align: middle;\n",
       "    }\n",
       "\n",
       "    .dataframe tbody tr th {\n",
       "        vertical-align: top;\n",
       "    }\n",
       "\n",
       "    .dataframe thead th {\n",
       "        text-align: right;\n",
       "    }\n",
       "</style>\n",
       "<table border=\"1\" class=\"dataframe\">\n",
       "  <thead>\n",
       "    <tr style=\"text-align: right;\">\n",
       "      <th></th>\n",
       "      <th>City</th>\n",
       "      <th>AQI</th>\n",
       "      <th>AQI_Bucket</th>\n",
       "      <th>Vehicle_Pollution_content</th>\n",
       "      <th>Industry_pollutants</th>\n",
       "      <th>Day_date</th>\n",
       "      <th>month_date</th>\n",
       "    </tr>\n",
       "  </thead>\n",
       "  <tbody>\n",
       "    <tr>\n",
       "      <th>3938</th>\n",
       "      <td>Shillong</td>\n",
       "      <td>68.0</td>\n",
       "      <td>Satisfactory</td>\n",
       "      <td>102.99</td>\n",
       "      <td>909.556883</td>\n",
       "      <td>25</td>\n",
       "      <td>1</td>\n",
       "    </tr>\n",
       "    <tr>\n",
       "      <th>3939</th>\n",
       "      <td>Shillong</td>\n",
       "      <td>74.0</td>\n",
       "      <td>Satisfactory</td>\n",
       "      <td>105.60</td>\n",
       "      <td>924.636883</td>\n",
       "      <td>26</td>\n",
       "      <td>1</td>\n",
       "    </tr>\n",
       "    <tr>\n",
       "      <th>3971</th>\n",
       "      <td>Shillong</td>\n",
       "      <td>60.0</td>\n",
       "      <td>Satisfactory</td>\n",
       "      <td>50.26</td>\n",
       "      <td>847.706883</td>\n",
       "      <td>27</td>\n",
       "      <td>2</td>\n",
       "    </tr>\n",
       "    <tr>\n",
       "      <th>3972</th>\n",
       "      <td>Shillong</td>\n",
       "      <td>42.0</td>\n",
       "      <td>Good</td>\n",
       "      <td>46.68</td>\n",
       "      <td>840.986883</td>\n",
       "      <td>28</td>\n",
       "      <td>2</td>\n",
       "    </tr>\n",
       "    <tr>\n",
       "      <th>3973</th>\n",
       "      <td>Shillong</td>\n",
       "      <td>51.0</td>\n",
       "      <td>Satisfactory</td>\n",
       "      <td>49.98</td>\n",
       "      <td>943.246883</td>\n",
       "      <td>29</td>\n",
       "      <td>2</td>\n",
       "    </tr>\n",
       "    <tr>\n",
       "      <th>3974</th>\n",
       "      <td>Shillong</td>\n",
       "      <td>53.0</td>\n",
       "      <td>Satisfactory</td>\n",
       "      <td>69.49</td>\n",
       "      <td>907.876883</td>\n",
       "      <td>1</td>\n",
       "      <td>3</td>\n",
       "    </tr>\n",
       "    <tr>\n",
       "      <th>3975</th>\n",
       "      <td>Shillong</td>\n",
       "      <td>60.0</td>\n",
       "      <td>Satisfactory</td>\n",
       "      <td>88.69</td>\n",
       "      <td>915.976883</td>\n",
       "      <td>2</td>\n",
       "      <td>3</td>\n",
       "    </tr>\n",
       "    <tr>\n",
       "      <th>3976</th>\n",
       "      <td>Shillong</td>\n",
       "      <td>63.0</td>\n",
       "      <td>Satisfactory</td>\n",
       "      <td>71.86</td>\n",
       "      <td>915.046883</td>\n",
       "      <td>3</td>\n",
       "      <td>3</td>\n",
       "    </tr>\n",
       "    <tr>\n",
       "      <th>3977</th>\n",
       "      <td>Shillong</td>\n",
       "      <td>64.0</td>\n",
       "      <td>Satisfactory</td>\n",
       "      <td>90.79</td>\n",
       "      <td>946.386883</td>\n",
       "      <td>4</td>\n",
       "      <td>3</td>\n",
       "    </tr>\n",
       "    <tr>\n",
       "      <th>3978</th>\n",
       "      <td>Shillong</td>\n",
       "      <td>63.0</td>\n",
       "      <td>Satisfactory</td>\n",
       "      <td>65.67</td>\n",
       "      <td>917.676883</td>\n",
       "      <td>5</td>\n",
       "      <td>3</td>\n",
       "    </tr>\n",
       "    <tr>\n",
       "      <th>3979</th>\n",
       "      <td>Shillong</td>\n",
       "      <td>64.0</td>\n",
       "      <td>Satisfactory</td>\n",
       "      <td>68.64</td>\n",
       "      <td>967.906883</td>\n",
       "      <td>6</td>\n",
       "      <td>3</td>\n",
       "    </tr>\n",
       "    <tr>\n",
       "      <th>3980</th>\n",
       "      <td>Shillong</td>\n",
       "      <td>65.0</td>\n",
       "      <td>Satisfactory</td>\n",
       "      <td>67.12</td>\n",
       "      <td>892.456883</td>\n",
       "      <td>7</td>\n",
       "      <td>3</td>\n",
       "    </tr>\n",
       "    <tr>\n",
       "      <th>3981</th>\n",
       "      <td>Shillong</td>\n",
       "      <td>73.0</td>\n",
       "      <td>Satisfactory</td>\n",
       "      <td>61.44</td>\n",
       "      <td>901.346883</td>\n",
       "      <td>8</td>\n",
       "      <td>3</td>\n",
       "    </tr>\n",
       "    <tr>\n",
       "      <th>3982</th>\n",
       "      <td>Shillong</td>\n",
       "      <td>65.0</td>\n",
       "      <td>Satisfactory</td>\n",
       "      <td>76.82</td>\n",
       "      <td>945.736883</td>\n",
       "      <td>9</td>\n",
       "      <td>3</td>\n",
       "    </tr>\n",
       "    <tr>\n",
       "      <th>3983</th>\n",
       "      <td>Shillong</td>\n",
       "      <td>71.0</td>\n",
       "      <td>Satisfactory</td>\n",
       "      <td>105.45</td>\n",
       "      <td>970.396883</td>\n",
       "      <td>10</td>\n",
       "      <td>3</td>\n",
       "    </tr>\n",
       "    <tr>\n",
       "      <th>3984</th>\n",
       "      <td>Shillong</td>\n",
       "      <td>66.0</td>\n",
       "      <td>Satisfactory</td>\n",
       "      <td>67.77</td>\n",
       "      <td>959.086883</td>\n",
       "      <td>11</td>\n",
       "      <td>3</td>\n",
       "    </tr>\n",
       "    <tr>\n",
       "      <th>3985</th>\n",
       "      <td>Shillong</td>\n",
       "      <td>56.0</td>\n",
       "      <td>Satisfactory</td>\n",
       "      <td>81.46</td>\n",
       "      <td>909.236883</td>\n",
       "      <td>12</td>\n",
       "      <td>3</td>\n",
       "    </tr>\n",
       "    <tr>\n",
       "      <th>3986</th>\n",
       "      <td>Shillong</td>\n",
       "      <td>59.0</td>\n",
       "      <td>Satisfactory</td>\n",
       "      <td>99.15</td>\n",
       "      <td>904.086883</td>\n",
       "      <td>13</td>\n",
       "      <td>3</td>\n",
       "    </tr>\n",
       "    <tr>\n",
       "      <th>3987</th>\n",
       "      <td>Shillong</td>\n",
       "      <td>86.0</td>\n",
       "      <td>Satisfactory</td>\n",
       "      <td>134.39</td>\n",
       "      <td>918.216883</td>\n",
       "      <td>14</td>\n",
       "      <td>3</td>\n",
       "    </tr>\n",
       "    <tr>\n",
       "      <th>3988</th>\n",
       "      <td>Shillong</td>\n",
       "      <td>77.0</td>\n",
       "      <td>Satisfactory</td>\n",
       "      <td>73.96</td>\n",
       "      <td>922.796883</td>\n",
       "      <td>15</td>\n",
       "      <td>3</td>\n",
       "    </tr>\n",
       "  </tbody>\n",
       "</table>\n",
       "</div>"
      ],
      "text/plain": [
       "          City   AQI    AQI_Bucket  Vehicle_Pollution_content  \\\n",
       "3938  Shillong  68.0  Satisfactory                     102.99   \n",
       "3939  Shillong  74.0  Satisfactory                     105.60   \n",
       "3971  Shillong  60.0  Satisfactory                      50.26   \n",
       "3972  Shillong  42.0          Good                      46.68   \n",
       "3973  Shillong  51.0  Satisfactory                      49.98   \n",
       "3974  Shillong  53.0  Satisfactory                      69.49   \n",
       "3975  Shillong  60.0  Satisfactory                      88.69   \n",
       "3976  Shillong  63.0  Satisfactory                      71.86   \n",
       "3977  Shillong  64.0  Satisfactory                      90.79   \n",
       "3978  Shillong  63.0  Satisfactory                      65.67   \n",
       "3979  Shillong  64.0  Satisfactory                      68.64   \n",
       "3980  Shillong  65.0  Satisfactory                      67.12   \n",
       "3981  Shillong  73.0  Satisfactory                      61.44   \n",
       "3982  Shillong  65.0  Satisfactory                      76.82   \n",
       "3983  Shillong  71.0  Satisfactory                     105.45   \n",
       "3984  Shillong  66.0  Satisfactory                      67.77   \n",
       "3985  Shillong  56.0  Satisfactory                      81.46   \n",
       "3986  Shillong  59.0  Satisfactory                      99.15   \n",
       "3987  Shillong  86.0  Satisfactory                     134.39   \n",
       "3988  Shillong  77.0  Satisfactory                      73.96   \n",
       "\n",
       "      Industry_pollutants  Day_date  month_date  \n",
       "3938           909.556883        25           1  \n",
       "3939           924.636883        26           1  \n",
       "3971           847.706883        27           2  \n",
       "3972           840.986883        28           2  \n",
       "3973           943.246883        29           2  \n",
       "3974           907.876883         1           3  \n",
       "3975           915.976883         2           3  \n",
       "3976           915.046883         3           3  \n",
       "3977           946.386883         4           3  \n",
       "3978           917.676883         5           3  \n",
       "3979           967.906883         6           3  \n",
       "3980           892.456883         7           3  \n",
       "3981           901.346883         8           3  \n",
       "3982           945.736883         9           3  \n",
       "3983           970.396883        10           3  \n",
       "3984           959.086883        11           3  \n",
       "3985           909.236883        12           3  \n",
       "3986           904.086883        13           3  \n",
       "3987           918.216883        14           3  \n",
       "3988           922.796883        15           3  "
      ]
     },
     "execution_count": 17,
     "metadata": {
     },
     "output_type": "execute_result"
    }
   ],
   "source": [
    "outliers=df1.loc[df1['Industry_pollutants']>(800)]\n",
    "outliers"
   ]
  },
  {
   "cell_type": "code",
   "execution_count": 18,
   "metadata": {
    "collapsed": false,
    "execution": {
     "iopub.execute_input": "2021-08-17T19:47:33.880579Z",
     "iopub.status.busy": "2021-08-17T19:47:33.877913Z",
     "iopub.status.idle": "2021-08-17T19:47:39.779697Z",
     "shell.execute_reply": "2021-08-17T19:47:39.780109Z",
     "shell.execute_reply.started": "2021-08-17T19:09:20.792654Z"
    },
    "papermill": {
     "duration": 5.97984,
     "end_time": "2021-08-17T19:47:39.780289",
     "exception": false,
     "start_time": "2021-08-17T19:47:33.800449",
     "status": "completed"
    },
    "tags": [
    ]
   },
   "outputs": [
    {
     "data": {
      "text/plain": [
       "<seaborn.axisgrid.PairGrid at 0x7f600ed24fd0>"
      ]
     },
     "execution_count": 18,
     "metadata": {
     },
     "output_type": "execute_result"
    },
    {
     "data": {
      "image/png": "[encoded data removed]",
      "text/plain": [
       "<Figure size 900x900 with 30 Axes>"
      ]
     },
     "execution_count": 18,
     "metadata": {
     },
     "output_type": "execute_result"
    }
   ],
   "source": [
    "sns.pairplot(data=df1)"
   ]
  },
  {
   "cell_type": "code",
   "execution_count": 19,
   "metadata": {
    "collapsed": false,
    "execution": {
     "iopub.execute_input": "2021-08-17T19:47:39.890848Z",
     "iopub.status.busy": "2021-08-17T19:47:39.889934Z",
     "iopub.status.idle": "2021-08-17T19:47:39.893260Z",
     "shell.execute_reply": "2021-08-17T19:47:39.893752Z",
     "shell.execute_reply.started": "2021-08-17T19:10:10.325009Z"
    },
    "papermill": {
     "duration": 0.062217,
     "end_time": "2021-08-17T19:47:39.893893",
     "exception": false,
     "start_time": "2021-08-17T19:47:39.831676",
     "status": "completed"
    },
    "tags": [
    ]
   },
   "outputs": [
    {
     "data": {
      "text/html": [
       "<div>\n",
       "<style scoped>\n",
       "    .dataframe tbody tr th:only-of-type {\n",
       "        vertical-align: middle;\n",
       "    }\n",
       "\n",
       "    .dataframe tbody tr th {\n",
       "        vertical-align: top;\n",
       "    }\n",
       "\n",
       "    .dataframe thead th {\n",
       "        text-align: right;\n",
       "    }\n",
       "</style>\n",
       "<table border=\"1\" class=\"dataframe\">\n",
       "  <thead>\n",
       "    <tr style=\"text-align: right;\">\n",
       "      <th></th>\n",
       "      <th>City</th>\n",
       "      <th>AQI</th>\n",
       "      <th>Vehicle_Pollution_content</th>\n",
       "      <th>Industry_pollutants</th>\n",
       "      <th>Day_date</th>\n",
       "      <th>month_date</th>\n",
       "    </tr>\n",
       "  </thead>\n",
       "  <tbody>\n",
       "    <tr>\n",
       "      <th>0</th>\n",
       "      <td>Ahmedabad</td>\n",
       "      <td>216.0</td>\n",
       "      <td>246.702005</td>\n",
       "      <td>89.52</td>\n",
       "      <td>1</td>\n",
       "      <td>1</td>\n",
       "    </tr>\n",
       "    <tr>\n",
       "      <th>1</th>\n",
       "      <td>Ahmedabad</td>\n",
       "      <td>162.0</td>\n",
       "      <td>237.402005</td>\n",
       "      <td>85.00</td>\n",
       "      <td>2</td>\n",
       "      <td>1</td>\n",
       "    </tr>\n",
       "    <tr>\n",
       "      <th>2</th>\n",
       "      <td>Ahmedabad</td>\n",
       "      <td>220.0</td>\n",
       "      <td>244.262005</td>\n",
       "      <td>97.88</td>\n",
       "      <td>3</td>\n",
       "      <td>1</td>\n",
       "    </tr>\n",
       "    <tr>\n",
       "      <th>3</th>\n",
       "      <td>Ahmedabad</td>\n",
       "      <td>254.0</td>\n",
       "      <td>258.412005</td>\n",
       "      <td>100.41</td>\n",
       "      <td>4</td>\n",
       "      <td>1</td>\n",
       "    </tr>\n",
       "    <tr>\n",
       "      <th>4</th>\n",
       "      <td>Ahmedabad</td>\n",
       "      <td>255.0</td>\n",
       "      <td>207.712005</td>\n",
       "      <td>106.40</td>\n",
       "      <td>5</td>\n",
       "      <td>1</td>\n",
       "    </tr>\n",
       "  </tbody>\n",
       "</table>\n",
       "</div>"
      ],
      "text/plain": [
       "        City    AQI  Vehicle_Pollution_content  Industry_pollutants  Day_date  \\\n",
       "0  Ahmedabad  216.0                 246.702005                89.52         1   \n",
       "1  Ahmedabad  162.0                 237.402005                85.00         2   \n",
       "2  Ahmedabad  220.0                 244.262005                97.88         3   \n",
       "3  Ahmedabad  254.0                 258.412005               100.41         4   \n",
       "4  Ahmedabad  255.0                 207.712005               106.40         5   \n",
       "\n",
       "   month_date  \n",
       "0           1  \n",
       "1           1  \n",
       "2           1  \n",
       "3           1  \n",
       "4           1  "
      ]
     },
     "execution_count": 19,
     "metadata": {
     },
     "output_type": "execute_result"
    }
   ],
   "source": [
    "df1.drop(['AQI_Bucket'],axis=1,inplace=True)\n",
    "df1.head()"
   ]
  },
  {
   "cell_type": "markdown",
   "metadata": {
    "collapsed": false,
    "papermill": {
     "duration": 0.045196,
     "end_time": "2021-08-17T19:47:39.984143",
     "exception": false,
     "start_time": "2021-08-17T19:47:39.938947",
     "status": "completed"
    },
    "tags": [
    ]
   },
   "source": [
    "**IN ORDER TO SEE EVERY COLUMN IN THE DATASET**"
   ]
  },
  {
   "cell_type": "code",
   "execution_count": 20,
   "metadata": {
    "collapsed": false,
    "execution": {
     "iopub.execute_input": "2021-08-17T19:47:40.077970Z",
     "iopub.status.busy": "2021-08-17T19:47:40.077044Z",
     "iopub.status.idle": "2021-08-17T19:47:40.079768Z",
     "shell.execute_reply": "2021-08-17T19:47:40.079332Z",
     "shell.execute_reply.started": "2021-08-17T19:11:33.152162Z"
    },
    "papermill": {
     "duration": 0.051257,
     "end_time": "2021-08-17T19:47:40.079875",
     "exception": false,
     "start_time": "2021-08-17T19:47:40.028618",
     "status": "completed"
    },
    "tags": [
    ]
   },
   "outputs": [
   ],
   "source": [
    "pd.set_option('display.max_columns',None)\n",
    "pd.set_option('display.max_rows',None)"
   ]
  },
  {
   "cell_type": "markdown",
   "metadata": {
    "collapsed": false,
    "papermill": {
     "duration": 0.044381,
     "end_time": "2021-08-17T19:47:40.169571",
     "exception": false,
     "start_time": "2021-08-17T19:47:40.125190",
     "status": "completed"
    },
    "tags": [
    ]
   },
   "source": [
    "**CREATING DUMMIES FOR CITY COLUMN**"
   ]
  },
  {
   "cell_type": "code",
   "execution_count": 21,
   "metadata": {
    "collapsed": false,
    "execution": {
     "iopub.execute_input": "2021-08-17T19:47:40.268367Z",
     "iopub.status.busy": "2021-08-17T19:47:40.267489Z",
     "iopub.status.idle": "2021-08-17T19:47:40.289211Z",
     "shell.execute_reply": "2021-08-17T19:47:40.289837Z",
     "shell.execute_reply.started": "2021-08-17T19:12:44.265701Z"
    },
    "papermill": {
     "duration": 0.076078,
     "end_time": "2021-08-17T19:47:40.290022",
     "exception": false,
     "start_time": "2021-08-17T19:47:40.213944",
     "status": "completed"
    },
    "tags": [
    ]
   },
   "outputs": [
    {
     "name": "stdout",
     "output_type": "stream",
     "text": [
      "(4646, 30)\n"
     ]
    },
    {
     "data": {
      "text/html": [
       "<div>\n",
       "<style scoped>\n",
       "    .dataframe tbody tr th:only-of-type {\n",
       "        vertical-align: middle;\n",
       "    }\n",
       "\n",
       "    .dataframe tbody tr th {\n",
       "        vertical-align: top;\n",
       "    }\n",
       "\n",
       "    .dataframe thead th {\n",
       "        text-align: right;\n",
       "    }\n",
       "</style>\n",
       "<table border=\"1\" class=\"dataframe\">\n",
       "  <thead>\n",
       "    <tr style=\"text-align: right;\">\n",
       "      <th></th>\n",
       "      <th>AQI</th>\n",
       "      <th>Vehicle_Pollution_content</th>\n",
       "      <th>Industry_pollutants</th>\n",
       "      <th>Day_date</th>\n",
       "      <th>month_date</th>\n",
       "      <th>City_Aizawl</th>\n",
       "      <th>City_Amaravati</th>\n",
       "      <th>City_Amritsar</th>\n",
       "      <th>City_Bengaluru</th>\n",
       "      <th>City_Bhopal</th>\n",
       "      <th>City_Brajrajnagar</th>\n",
       "      <th>City_Chandigarh</th>\n",
       "      <th>City_Chennai</th>\n",
       "      <th>City_Coimbatore</th>\n",
       "      <th>City_Delhi</th>\n",
       "      <th>City_Ernakulam</th>\n",
       "      <th>City_Gurugram</th>\n",
       "      <th>City_Guwahati</th>\n",
       "      <th>City_Hyderabad</th>\n",
       "      <th>City_Jaipur</th>\n",
       "      <th>City_Jorapokhar</th>\n",
       "      <th>City_Kochi</th>\n",
       "      <th>City_Kolkata</th>\n",
       "      <th>City_Lucknow</th>\n",
       "      <th>City_Mumbai</th>\n",
       "      <th>City_Patna</th>\n",
       "      <th>City_Shillong</th>\n",
       "      <th>City_Talcher</th>\n",
       "      <th>City_Thiruvananthapuram</th>\n",
       "      <th>City_Visakhapatnam</th>\n",
       "    </tr>\n",
       "  </thead>\n",
       "  <tbody>\n",
       "    <tr>\n",
       "      <th>0</th>\n",
       "      <td>216.0</td>\n",
       "      <td>246.702005</td>\n",
       "      <td>89.52</td>\n",
       "      <td>1</td>\n",
       "      <td>1</td>\n",
       "      <td>0</td>\n",
       "      <td>0</td>\n",
       "      <td>0</td>\n",
       "      <td>0</td>\n",
       "      <td>0</td>\n",
       "      <td>0</td>\n",
       "      <td>0</td>\n",
       "      <td>0</td>\n",
       "      <td>0</td>\n",
       "      <td>0</td>\n",
       "      <td>0</td>\n",
       "      <td>0</td>\n",
       "      <td>0</td>\n",
       "      <td>0</td>\n",
       "      <td>0</td>\n",
       "      <td>0</td>\n",
       "      <td>0</td>\n",
       "      <td>0</td>\n",
       "      <td>0</td>\n",
       "      <td>0</td>\n",
       "      <td>0</td>\n",
       "      <td>0</td>\n",
       "      <td>0</td>\n",
       "      <td>0</td>\n",
       "      <td>0</td>\n",
       "    </tr>\n",
       "    <tr>\n",
       "      <th>1</th>\n",
       "      <td>162.0</td>\n",
       "      <td>237.402005</td>\n",
       "      <td>85.00</td>\n",
       "      <td>2</td>\n",
       "      <td>1</td>\n",
       "      <td>0</td>\n",
       "      <td>0</td>\n",
       "      <td>0</td>\n",
       "      <td>0</td>\n",
       "      <td>0</td>\n",
       "      <td>0</td>\n",
       "      <td>0</td>\n",
       "      <td>0</td>\n",
       "      <td>0</td>\n",
       "      <td>0</td>\n",
       "      <td>0</td>\n",
       "      <td>0</td>\n",
       "      <td>0</td>\n",
       "      <td>0</td>\n",
       "      <td>0</td>\n",
       "      <td>0</td>\n",
       "      <td>0</td>\n",
       "      <td>0</td>\n",
       "      <td>0</td>\n",
       "      <td>0</td>\n",
       "      <td>0</td>\n",
       "      <td>0</td>\n",
       "      <td>0</td>\n",
       "      <td>0</td>\n",
       "      <td>0</td>\n",
       "    </tr>\n",
       "    <tr>\n",
       "      <th>2</th>\n",
       "      <td>220.0</td>\n",
       "      <td>244.262005</td>\n",
       "      <td>97.88</td>\n",
       "      <td>3</td>\n",
       "      <td>1</td>\n",
       "      <td>0</td>\n",
       "      <td>0</td>\n",
       "      <td>0</td>\n",
       "      <td>0</td>\n",
       "      <td>0</td>\n",
       "      <td>0</td>\n",
       "      <td>0</td>\n",
       "      <td>0</td>\n",
       "      <td>0</td>\n",
       "      <td>0</td>\n",
       "      <td>0</td>\n",
       "      <td>0</td>\n",
       "      <td>0</td>\n",
       "      <td>0</td>\n",
       "      <td>0</td>\n",
       "      <td>0</td>\n",
       "      <td>0</td>\n",
       "      <td>0</td>\n",
       "      <td>0</td>\n",
       "      <td>0</td>\n",
       "      <td>0</td>\n",
       "      <td>0</td>\n",
       "      <td>0</td>\n",
       "      <td>0</td>\n",
       "      <td>0</td>\n",
       "    </tr>\n",
       "    <tr>\n",
       "      <th>3</th>\n",
       "      <td>254.0</td>\n",
       "      <td>258.412005</td>\n",
       "      <td>100.41</td>\n",
       "      <td>4</td>\n",
       "      <td>1</td>\n",
       "      <td>0</td>\n",
       "      <td>0</td>\n",
       "      <td>0</td>\n",
       "      <td>0</td>\n",
       "      <td>0</td>\n",
       "      <td>0</td>\n",
       "      <td>0</td>\n",
       "      <td>0</td>\n",
       "      <td>0</td>\n",
       "      <td>0</td>\n",
       "      <td>0</td>\n",
       "      <td>0</td>\n",
       "      <td>0</td>\n",
       "      <td>0</td>\n",
       "      <td>0</td>\n",
       "      <td>0</td>\n",
       "      <td>0</td>\n",
       "      <td>0</td>\n",
       "      <td>0</td>\n",
       "      <td>0</td>\n",
       "      <td>0</td>\n",
       "      <td>0</td>\n",
       "      <td>0</td>\n",
       "      <td>0</td>\n",
       "      <td>0</td>\n",
       "    </tr>\n",
       "    <tr>\n",
       "      <th>4</th>\n",
       "      <td>255.0</td>\n",
       "      <td>207.712005</td>\n",
       "      <td>106.40</td>\n",
       "      <td>5</td>\n",
       "      <td>1</td>\n",
       "      <td>0</td>\n",
       "      <td>0</td>\n",
       "      <td>0</td>\n",
       "      <td>0</td>\n",
       "      <td>0</td>\n",
       "      <td>0</td>\n",
       "      <td>0</td>\n",
       "      <td>0</td>\n",
       "      <td>0</td>\n",
       "      <td>0</td>\n",
       "      <td>0</td>\n",
       "      <td>0</td>\n",
       "      <td>0</td>\n",
       "      <td>0</td>\n",
       "      <td>0</td>\n",
       "      <td>0</td>\n",
       "      <td>0</td>\n",
       "      <td>0</td>\n",
       "      <td>0</td>\n",
       "      <td>0</td>\n",
       "      <td>0</td>\n",
       "      <td>0</td>\n",
       "      <td>0</td>\n",
       "      <td>0</td>\n",
       "      <td>0</td>\n",
       "    </tr>\n",
       "  </tbody>\n",
       "</table>\n",
       "</div>"
      ],
      "text/plain": [
       "     AQI  Vehicle_Pollution_content  Industry_pollutants  Day_date  \\\n",
       "0  216.0                 246.702005                89.52         1   \n",
       "1  162.0                 237.402005                85.00         2   \n",
       "2  220.0                 244.262005                97.88         3   \n",
       "3  254.0                 258.412005               100.41         4   \n",
       "4  255.0                 207.712005               106.40         5   \n",
       "\n",
       "   month_date  City_Aizawl  City_Amaravati  City_Amritsar  City_Bengaluru  \\\n",
       "0           1            0               0              0               0   \n",
       "1           1            0               0              0               0   \n",
       "2           1            0               0              0               0   \n",
       "3           1            0               0              0               0   \n",
       "4           1            0               0              0               0   \n",
       "\n",
       "   City_Bhopal  City_Brajrajnagar  City_Chandigarh  City_Chennai  \\\n",
       "0            0                  0                0             0   \n",
       "1            0                  0                0             0   \n",
       "2            0                  0                0             0   \n",
       "3            0                  0                0             0   \n",
       "4            0                  0                0             0   \n",
       "\n",
       "   City_Coimbatore  City_Delhi  City_Ernakulam  City_Gurugram  City_Guwahati  \\\n",
       "0                0           0               0              0              0   \n",
       "1                0           0               0              0              0   \n",
       "2                0           0               0              0              0   \n",
       "3                0           0               0              0              0   \n",
       "4                0           0               0              0              0   \n",
       "\n",
       "   City_Hyderabad  City_Jaipur  City_Jorapokhar  City_Kochi  City_Kolkata  \\\n",
       "0               0            0                0           0             0   \n",
       "1               0            0                0           0             0   \n",
       "2               0            0                0           0             0   \n",
       "3               0            0                0           0             0   \n",
       "4               0            0                0           0             0   \n",
       "\n",
       "   City_Lucknow  City_Mumbai  City_Patna  City_Shillong  City_Talcher  \\\n",
       "0             0            0           0              0             0   \n",
       "1             0            0           0              0             0   \n",
       "2             0            0           0              0             0   \n",
       "3             0            0           0              0             0   \n",
       "4             0            0           0              0             0   \n",
       "\n",
       "   City_Thiruvananthapuram  City_Visakhapatnam  \n",
       "0                        0                   0  \n",
       "1                        0                   0  \n",
       "2                        0                   0  \n",
       "3                        0                   0  \n",
       "4                        0                   0  "
      ]
     },
     "execution_count": 21,
     "metadata": {
     },
     "output_type": "execute_result"
    }
   ],
   "source": [
    "df1=pd.get_dummies(df1,drop_first=True)\n",
    "print(df1.shape)\n",
    "df1.head()"
   ]
  },
  {
   "cell_type": "markdown",
   "metadata": {
    "collapsed": false,
    "papermill": {
     "duration": 0.046788,
     "end_time": "2021-08-17T19:47:40.382854",
     "exception": false,
     "start_time": "2021-08-17T19:47:40.336066",
     "status": "completed"
    },
    "tags": [
    ]
   },
   "source": [
    "**AS AQI IS DEPENDENT VARIABLE WE DROPING IT FROM DATASET AND PUTING IT IN Y**"
   ]
  },
  {
   "cell_type": "code",
   "execution_count": 22,
   "metadata": {
    "collapsed": false,
    "execution": {
     "iopub.execute_input": "2021-08-17T19:47:40.480033Z",
     "iopub.status.busy": "2021-08-17T19:47:40.479147Z",
     "iopub.status.idle": "2021-08-17T19:47:40.484482Z",
     "shell.execute_reply": "2021-08-17T19:47:40.484029Z",
     "shell.execute_reply.started": "2021-08-17T19:15:08.273198Z"
    },
    "papermill": {
     "duration": 0.056324,
     "end_time": "2021-08-17T19:47:40.484609",
     "exception": false,
     "start_time": "2021-08-17T19:47:40.428285",
     "status": "completed"
    },
    "tags": [
    ]
   },
   "outputs": [
    {
     "name": "stdout",
     "output_type": "stream",
     "text": [
      "(4646, 29)\n",
      "(4646,)\n"
     ]
    }
   ],
   "source": [
    "X=df1.drop(['AQI'],axis=1)\n",
    "y=df1['AQI']\n",
    "print(X.shape)\n",
    "print(y.shape)"
   ]
  },
  {
   "cell_type": "code",
   "execution_count": 23,
   "metadata": {
    "collapsed": false,
    "execution": {
     "iopub.execute_input": "2021-08-17T19:47:40.638289Z",
     "iopub.status.busy": "2021-08-17T19:47:40.637368Z",
     "iopub.status.idle": "2021-08-17T19:47:40.814968Z",
     "shell.execute_reply": "2021-08-17T19:47:40.816198Z",
     "shell.execute_reply.started": "2021-08-17T19:20:56.861466Z"
    },
    "papermill": {
     "duration": 0.264314,
     "end_time": "2021-08-17T19:47:40.816428",
     "exception": false,
     "start_time": "2021-08-17T19:47:40.552114",
     "status": "completed"
    },
    "tags": [
    ]
   },
   "outputs": [
   ],
   "source": [
    "from sklearn.model_selection import train_test_split\n",
    "X_train,X_test,y_train,y_test = train_test_split(X,y,test_size=0.2)"
   ]
  },
  {
   "cell_type": "markdown",
   "metadata": {
    "collapsed": false,
    "papermill": {
     "duration": 0.078219,
     "end_time": "2021-08-17T19:47:40.977744",
     "exception": false,
     "start_time": "2021-08-17T19:47:40.899525",
     "status": "completed"
    },
    "tags": [
    ]
   },
   "source": [
    "**RANDOM FOREST REGRESSOR**"
   ]
  },
  {
   "cell_type": "code",
   "execution_count": 24,
   "metadata": {
    "collapsed": false,
    "execution": {
     "iopub.execute_input": "2021-08-17T19:47:41.090149Z",
     "iopub.status.busy": "2021-08-17T19:47:41.089539Z",
     "iopub.status.idle": "2021-08-17T19:47:42.724956Z",
     "shell.execute_reply": "2021-08-17T19:47:42.724534Z",
     "shell.execute_reply.started": "2021-08-17T19:20:57.45738Z"
    },
    "papermill": {
     "duration": 1.685811,
     "end_time": "2021-08-17T19:47:42.725078",
     "exception": false,
     "start_time": "2021-08-17T19:47:41.039267",
     "status": "completed"
    },
    "tags": [
    ]
   },
   "outputs": [
    {
     "data": {
      "text/plain": [
       "0.7522958932429165"
      ]
     },
     "execution_count": 24,
     "metadata": {
     },
     "output_type": "execute_result"
    }
   ],
   "source": [
    "from sklearn.metrics import classification_report,accuracy_score\n",
    "from sklearn.ensemble import RandomForestRegressor\n",
    "model3=RandomForestRegressor()\n",
    "model3.fit(X_train,y_train)\n",
    "model3.score(X_test,y_test)"
   ]
  },
  {
   "cell_type": "markdown",
   "metadata": {
    "collapsed": false,
    "papermill": {
     "duration": 0.045456,
     "end_time": "2021-08-17T19:47:42.817024",
     "exception": false,
     "start_time": "2021-08-17T19:47:42.771568",
     "status": "completed"
    },
    "tags": [
    ]
   },
   "source": [
    "**GRADIENT BOSSTING REGRESSOR**"
   ]
  },
  {
   "cell_type": "code",
   "execution_count": 25,
   "metadata": {
    "collapsed": false,
    "execution": {
     "iopub.execute_input": "2021-08-17T19:47:42.915973Z",
     "iopub.status.busy": "2021-08-17T19:47:42.915455Z",
     "iopub.status.idle": "2021-08-17T19:47:43.343990Z",
     "shell.execute_reply": "2021-08-17T19:47:43.343568Z",
     "shell.execute_reply.started": "2021-08-17T19:21:08.371701Z"
    },
    "papermill": {
     "duration": 0.480724,
     "end_time": "2021-08-17T19:47:43.344110",
     "exception": false,
     "start_time": "2021-08-17T19:47:42.863386",
     "status": "completed"
    },
    "tags": [
    ]
   },
   "outputs": [
    {
     "data": {
      "text/plain": [
       "0.7784523269881535"
      ]
     },
     "execution_count": 25,
     "metadata": {
     },
     "output_type": "execute_result"
    }
   ],
   "source": [
    "from sklearn.ensemble import GradientBoostingRegressor\n",
    "model3=GradientBoostingRegressor()\n",
    "model3.fit(X_train,y_train)\n",
    "model3.score(X_test,y_test)"
   ]
  },
  {
   "cell_type": "markdown",
   "metadata": {
    "collapsed": false,
    "papermill": {
     "duration": 0.045935,
     "end_time": "2021-08-17T19:47:43.436798",
     "exception": false,
     "start_time": "2021-08-17T19:47:43.390863",
     "status": "completed"
    },
    "tags": [
    ]
   },
   "source": [
    "**EXTRA TREE REGRESSOR**"
   ]
  },
  {
   "cell_type": "code",
   "execution_count": 26,
   "metadata": {
    "collapsed": false,
    "execution": {
     "iopub.execute_input": "2021-08-17T19:47:43.536245Z",
     "iopub.status.busy": "2021-08-17T19:47:43.535255Z",
     "iopub.status.idle": "2021-08-17T19:47:44.650804Z",
     "shell.execute_reply": "2021-08-17T19:47:44.651274Z",
     "shell.execute_reply.started": "2021-08-17T19:24:27.848658Z"
    },
    "papermill": {
     "duration": 1.168445,
     "end_time": "2021-08-17T19:47:44.651443",
     "exception": false,
     "start_time": "2021-08-17T19:47:43.482998",
     "status": "completed"
    },
    "tags": [
    ]
   },
   "outputs": [
    {
     "data": {
      "text/plain": [
       "0.8339350883607192"
      ]
     },
     "execution_count": 26,
     "metadata": {
     },
     "output_type": "execute_result"
    }
   ],
   "source": [
    "from sklearn.ensemble import ExtraTreesRegressor\n",
    "model3=ExtraTreesRegressor()\n",
    "model3.fit(X_train,y_train)\n",
    "model3.score(X_test,y_test)"
   ]
  },
  {
   "cell_type": "markdown",
   "metadata": {
    "collapsed": false,
    "papermill": {
     "duration": 0.046498,
     "end_time": "2021-08-17T19:47:44.746463",
     "exception": false,
     "start_time": "2021-08-17T19:47:44.699965",
     "status": "completed"
    },
    "tags": [
    ]
   },
   "source": [
    "**HYPERTUNING OF EXTRA TREE REGRESSOR**"
   ]
  },
  {
   "cell_type": "code",
   "execution_count": 27,
   "metadata": {
    "collapsed": false,
    "execution": {
     "iopub.execute_input": "2021-08-17T19:47:44.851750Z",
     "iopub.status.busy": "2021-08-17T19:47:44.850969Z",
     "iopub.status.idle": "2021-08-17T19:47:48.061733Z",
     "shell.execute_reply": "2021-08-17T19:47:48.061284Z",
     "shell.execute_reply.started": "2021-08-17T19:25:00.936294Z"
    },
    "papermill": {
     "duration": 3.268905,
     "end_time": "2021-08-17T19:47:48.061858",
     "exception": false,
     "start_time": "2021-08-17T19:47:44.792953",
     "status": "completed"
    },
    "tags": [
    ]
   },
   "outputs": [
    {
     "data": {
      "text/plain": [
       "RandomizedSearchCV(cv=10, estimator=ExtraTreesRegressor(random_state=12),\n",
       "                   n_iter=3, n_jobs=2,\n",
       "                   param_distributions={'bootstrap': [True, False],\n",
       "                                        'max_depth': [3, None],\n",
       "                                        'max_features': <scipy.stats._distn_infrastructure.rv_frozen object at 0x7f60024e4a90>,\n",
       "                                        'min_samples_leaf': <scipy.stats._distn_infrastructure.rv_frozen object at 0x7f60024e4f10>,\n",
       "                                        'min_samples_split': <scipy.stats._distn_infrastructure.rv_frozen object at 0x7f60024e4d50>,\n",
       "                                        'n_estimators': [5, 10]},\n",
       "                   scoring='r2')"
      ]
     },
     "execution_count": 27,
     "metadata": {
     },
     "output_type": "execute_result"
    }
   ],
   "source": [
    "from sklearn.model_selection import RandomizedSearchCV,GridSearchCV\n",
    "from scipy.stats import randint as sp_randint\n",
    "from sklearn.metrics import mean_squared_error,make_scorer\n",
    "\n",
    "clf = ExtraTreesRegressor(random_state=12)\n",
    "param_dist = {\"n_estimators\": [5, 10],\n",
    "              \"max_depth\": [3, None],\n",
    "              \"max_features\": sp_randint(1, 11),\n",
    "              \"min_samples_split\": sp_randint(1, 11),\n",
    "              \"min_samples_leaf\": sp_randint(1, 11),\n",
    "              \"bootstrap\": [True, False]}\n",
    "# rmse = make_scorer(mean_squared_error, greater_is_better=False)\n",
    "r = RandomizedSearchCV(clf, param_distributions=param_dist,\n",
    "                       cv=10,\n",
    "                       scoring='r2',\n",
    "                       n_iter=3,\n",
    "                       n_jobs=2)\n",
    "r.fit(X, y)"
   ]
  },
  {
   "cell_type": "code",
   "execution_count": 28,
   "metadata": {
    "collapsed": false,
    "execution": {
     "iopub.execute_input": "2021-08-17T19:47:48.207898Z",
     "iopub.status.busy": "2021-08-17T19:47:48.207012Z",
     "iopub.status.idle": "2021-08-17T19:47:48.215873Z",
     "shell.execute_reply": "2021-08-17T19:47:48.216425Z",
     "shell.execute_reply.started": "2021-08-17T19:26:12.986253Z"
    },
    "papermill": {
     "duration": 0.092664,
     "end_time": "2021-08-17T19:47:48.216591",
     "exception": false,
     "start_time": "2021-08-17T19:47:48.123927",
     "status": "completed"
    },
    "tags": [
    ]
   },
   "outputs": [
    {
     "name": "stdout",
     "output_type": "stream",
     "text": [
      "{'bootstrap': True, 'max_depth': None, 'max_features': 1, 'min_samples_leaf': 9, 'min_samples_split': 6, 'n_estimators': 5}\n"
     ]
    },
    {
     "data": {
      "text/plain": [
       "0.4220806786923651"
      ]
     },
     "execution_count": 28,
     "metadata": {
     },
     "output_type": "execute_result"
    }
   ],
   "source": [
    "print(r.best_params_)\n",
    "r.score(X_test,y_test)"
   ]
  },
  {
   "cell_type": "markdown",
   "metadata": {
    "collapsed": false,
    "papermill": {
     "duration": 0.047805,
     "end_time": "2021-08-17T19:47:48.314896",
     "exception": false,
     "start_time": "2021-08-17T19:47:48.267091",
     "status": "completed"
    },
    "tags": [
    ]
   },
   "source": [
    "**HYPERTUNING OF RANDOM FOREST REGRESSOR**"
   ]
  },
  {
   "cell_type": "code",
   "execution_count": 29,
   "metadata": {
    "collapsed": false,
    "execution": {
     "iopub.execute_input": "2021-08-17T19:47:48.418337Z",
     "iopub.status.busy": "2021-08-17T19:47:48.416919Z",
     "iopub.status.idle": "2021-08-17T19:47:48.419154Z",
     "shell.execute_reply": "2021-08-17T19:47:48.419586Z",
     "shell.execute_reply.started": "2021-08-17T19:27:21.741353Z"
    },
    "papermill": {
     "duration": 0.057343,
     "end_time": "2021-08-17T19:47:48.419722",
     "exception": false,
     "start_time": "2021-08-17T19:47:48.362379",
     "status": "completed"
    },
    "tags": [
    ]
   },
   "outputs": [
   ],
   "source": [
    "n_estimators = [int(x) for x in np.linspace(start = 200, stop = 1000, num = 5)]\n",
    "max_features = ['auto', 'sqrt']\n",
    "max_depth = [int(x) for x in np.linspace(10, 110, num = 11)]\n",
    "max_depth.append(None)\n",
    "min_samples_split = [2, 5, 10]\n",
    "min_samples_leaf = [1, 2, 4]\n",
    "bootstrap = [True, False]\n",
    "random_grid = {'n_estimators': n_estimators,\n",
    "               'max_features': max_features,\n",
    "               'max_depth': max_depth,\n",
    "               'min_samples_split': min_samples_split,\n",
    "               'min_samples_leaf': min_samples_leaf,\n",
    "               'bootstrap': bootstrap}"
   ]
  },
  {
   "cell_type": "code",
   "execution_count": 30,
   "metadata": {
    "collapsed": false,
    "execution": {
     "iopub.execute_input": "2021-08-17T19:47:48.520570Z",
     "iopub.status.busy": "2021-08-17T19:47:48.519774Z",
     "iopub.status.idle": "2021-08-17T20:05:00.338292Z",
     "shell.execute_reply": "2021-08-17T20:05:00.338700Z",
     "shell.execute_reply.started": "2021-08-17T19:27:38.16581Z"
    },
    "papermill": {
     "duration": 1031.871954,
     "end_time": "2021-08-17T20:05:00.338850",
     "exception": false,
     "start_time": "2021-08-17T19:47:48.466896",
     "status": "completed"
    },
    "tags": [
    ]
   },
   "outputs": [
    {
     "name": "stdout",
     "output_type": "stream",
     "text": [
      "Fitting 3 folds for each of 100 candidates, totalling 300 fits\n"
     ]
    },
    {
     "name": "stderr",
     "output_type": "stream",
     "text": [
      "[Parallel(n_jobs=-1)]: Using backend LokyBackend with 2 concurrent workers.\n",
      "[Parallel(n_jobs=-1)]: Done  37 tasks      | elapsed:  2.8min\n",
      "[Parallel(n_jobs=-1)]: Done 158 tasks      | elapsed:  9.7min\n",
      "[Parallel(n_jobs=-1)]: Done 300 out of 300 | elapsed: 17.2min finished\n"
     ]
    },
    {
     "data": {
      "text/plain": [
       "RandomizedSearchCV(cv=3, estimator=RandomForestRegressor(), n_iter=100,\n",
       "                   n_jobs=-1,\n",
       "                   param_distributions={'bootstrap': [True, False],\n",
       "                                        'max_depth': [10, 20, 30, 40, 50, 60,\n",
       "                                                      70, 80, 90, 100, 110,\n",
       "                                                      None],\n",
       "                                        'max_features': ['auto', 'sqrt'],\n",
       "                                        'min_samples_leaf': [1, 2, 4],\n",
       "                                        'min_samples_split': [2, 5, 10],\n",
       "                                        'n_estimators': [200, 400, 600, 800,\n",
       "                                                         1000]},\n",
       "                   random_state=42, verbose=2)"
      ]
     },
     "execution_count": 30,
     "metadata": {
     },
     "output_type": "execute_result"
    }
   ],
   "source": [
    "rf = RandomForestRegressor()\n",
    "rf_random = RandomizedSearchCV(estimator = rf, param_distributions = random_grid, n_iter = 100, cv = 3, verbose=2, random_state=42, n_jobs = -1)\n",
    "rf_random.fit(X_train,y_train)"
   ]
  },
  {
   "cell_type": "code",
   "execution_count": 31,
   "metadata": {
    "collapsed": false,
    "execution": {
     "iopub.execute_input": "2021-08-17T20:05:00.443847Z",
     "iopub.status.busy": "2021-08-17T20:05:00.443103Z",
     "iopub.status.idle": "2021-08-17T20:05:00.446593Z",
     "shell.execute_reply": "2021-08-17T20:05:00.446075Z",
     "shell.execute_reply.started": "2021-08-17T19:37:11.831252Z"
    },
    "papermill": {
     "duration": 0.058717,
     "end_time": "2021-08-17T20:05:00.446702",
     "exception": false,
     "start_time": "2021-08-17T20:05:00.387985",
     "status": "completed"
    },
    "tags": [
    ]
   },
   "outputs": [
    {
     "data": {
      "text/plain": [
       "{'n_estimators': 200,\n",
       " 'min_samples_split': 2,\n",
       " 'min_samples_leaf': 1,\n",
       " 'max_features': 'sqrt',\n",
       " 'max_depth': 100,\n",
       " 'bootstrap': False}"
      ]
     },
     "execution_count": 31,
     "metadata": {
     },
     "output_type": "execute_result"
    }
   ],
   "source": [
    "rf_random.best_params_"
   ]
  },
  {
   "cell_type": "code",
   "execution_count": 32,
   "metadata": {
    "collapsed": false,
    "execution": {
     "iopub.execute_input": "2021-08-17T20:05:00.552190Z",
     "iopub.status.busy": "2021-08-17T20:05:00.551400Z",
     "iopub.status.idle": "2021-08-17T20:05:00.623801Z",
     "shell.execute_reply": "2021-08-17T20:05:00.624215Z",
     "shell.execute_reply.started": "2021-08-17T19:37:11.839382Z"
    },
    "papermill": {
     "duration": 0.127892,
     "end_time": "2021-08-17T20:05:00.624374",
     "exception": false,
     "start_time": "2021-08-17T20:05:00.496482",
     "status": "completed"
    },
    "tags": [
    ]
   },
   "outputs": [
    {
     "data": {
      "text/plain": [
       "0.8344493258346044"
      ]
     },
     "execution_count": 32,
     "metadata": {
     },
     "output_type": "execute_result"
    }
   ],
   "source": [
    "rf_random.score(X_test,y_test)"
   ]
  },
  {
   "cell_type": "code",
   "execution_count": 33,
   "metadata": {
    "collapsed": false,
    "execution": {
     "iopub.execute_input": "2021-08-17T20:05:00.730896Z",
     "iopub.status.busy": "2021-08-17T20:05:00.730102Z",
     "iopub.status.idle": "2021-08-17T20:05:00.800659Z",
     "shell.execute_reply": "2021-08-17T20:05:00.800217Z",
     "shell.execute_reply.started": "2021-08-17T19:37:11.932797Z"
    },
    "papermill": {
     "duration": 0.125505,
     "end_time": "2021-08-17T20:05:00.800776",
     "exception": false,
     "start_time": "2021-08-17T20:05:00.675271",
     "status": "completed"
    },
    "tags": [
    ]
   },
   "outputs": [
   ],
   "source": [
    "prediction=rf_random.predict(X_test)"
   ]
  },
  {
   "cell_type": "code",
   "execution_count": 34,
   "metadata": {
    "collapsed": false,
    "execution": {
     "iopub.execute_input": "2021-08-17T20:05:00.905384Z",
     "iopub.status.busy": "2021-08-17T20:05:00.904738Z",
     "iopub.status.idle": "2021-08-17T20:05:01.295780Z",
     "shell.execute_reply": "2021-08-17T20:05:01.296352Z",
     "shell.execute_reply.started": "2021-08-17T19:37:12.017522Z"
    },
    "papermill": {
     "duration": 0.445922,
     "end_time": "2021-08-17T20:05:01.296514",
     "exception": false,
     "start_time": "2021-08-17T20:05:00.850592",
     "status": "completed"
    },
    "tags": [
    ]
   },
   "outputs": [
    {
     "name": "stderr",
     "output_type": "stream",
     "text": [
      "/opt/conda/lib/python3.7/site-packages/seaborn/distributions.py:2557: FutureWarning: `distplot` is a deprecated function and will be removed in a future version. Please adapt your code to use either `displot` (a figure-level function with similar flexibility) or `histplot` (an axes-level function for histograms).\n",
      "  warnings.warn(msg, FutureWarning)\n"
     ]
    },
    {
     "data": {
      "text/plain": [
       "<AxesSubplot:xlabel='AQI', ylabel='Density'>"
      ]
     },
     "execution_count": 34,
     "metadata": {
     },
     "output_type": "execute_result"
    },
    {
     "data": {
      "image/png": "[encoded data removed]",
      "text/plain": [
       "<Figure size 432x288 with 1 Axes>"
      ]
     },
     "execution_count": 34,
     "metadata": {
     },
     "output_type": "execute_result"
    }
   ],
   "source": [
    "sns.distplot(y_test-prediction)"
   ]
  },
  {
   "cell_type": "code",
   "execution_count": 0,
   "metadata": {
    "collapsed": false,
    "papermill": {
     "duration": 0.05142,
     "end_time": "2021-08-17T20:05:01.399163",
     "exception": false,
     "start_time": "2021-08-17T20:05:01.347743",
     "status": "completed"
    },
    "tags": [
    ]
   },
   "outputs": [
   ],
   "source": [
   ]
  }
 ],
 "metadata": {
  "kernelspec": {
   "argv": [
    "/usr/bin/python3",
    "-m",
    "ipykernel",
    "--HistoryManager.enabled=False",
    "--matplotlib=inline",
    "-c",
    "%config InlineBackend.figure_formats = set(['retina'])\nimport matplotlib; matplotlib.rcParams['figure.figsize'] = (12, 7)",
    "-f",
    "{connection_file}"
   ],
   "display_name": "Python 3 (system-wide)",
   "env": {
   },
   "language": "python",
   "metadata": {
    "cocalc": {
     "description": "Python 3 programming language",
     "priority": 100,
     "url": "https://www.python.org/"
    }
   },
   "name": "python3",
   "resource_dir": "/ext/jupyter/kernels/python3"
  },
  "language_info": {
   "codemirror_mode": {
    "name": "ipython",
    "version": 3
   },
   "file_extension": ".py",
   "mimetype": "text/x-python",
   "name": "python",
   "nbconvert_exporter": "python",
   "pygments_lexer": "ipython3",
   "version": "3.10.12"
  },
  "papermill": {
   "default_parameters": {
   },
   "duration": 1062.994466,
   "end_time": "2021-08-17T20:05:03.207200",
   "environment_variables": {
   },
   "exception": null,
   "input_path": "__notebook__.ipynb",
   "output_path": "__notebook__.ipynb",
   "parameters": {
   },
   "start_time": "2021-08-17T19:47:20.212734",
   "version": "2.3.3"
  }
 },
 "nbformat": 4,
 "nbformat_minor": 4
}